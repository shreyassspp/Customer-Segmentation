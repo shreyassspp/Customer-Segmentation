{
 "cells": [
  {
   "cell_type": "code",
   "execution_count": 1,
   "id": "0ea1e31d",
   "metadata": {},
   "outputs": [],
   "source": [
    "import pandas as pd\n",
    "import matplotlib.pyplot as plt\n",
    "import numpy as np\n",
    "import seaborn as sns\n",
    "import warnings\n",
    "warnings.filterwarnings(\"ignore\")"
   ]
  },
  {
   "cell_type": "code",
   "execution_count": 2,
   "id": "553b3e77",
   "metadata": {},
   "outputs": [],
   "source": [
    "#Load Datasets \n",
    "data_train = pd.read_csv('train.csv').drop(columns=['ID'])\n",
    "data_test = pd.read_csv('test.csv')"
   ]
  },
  {
   "cell_type": "code",
   "execution_count": 3,
   "id": "b2bf9a27",
   "metadata": {},
   "outputs": [
    {
     "data": {
      "text/plain": [
       "140"
      ]
     },
     "execution_count": 3,
     "metadata": {},
     "output_type": "execute_result"
    }
   ],
   "source": [
    "data_train['Ever_Married'].isna().sum()"
   ]
  },
  {
   "cell_type": "code",
   "execution_count": 4,
   "id": "a8354e77",
   "metadata": {},
   "outputs": [
    {
     "name": "stdout",
     "output_type": "stream",
     "text": [
      "Gender Unique Values : 2\n",
      "Gender NaN Values : 0\n",
      "Gender Mode: Male\n",
      "Ever_Married Unique Values : 3\n",
      "Ever_Married NaN Values : 140\n",
      "Ever_Married Mode: Yes\n",
      "Age Unique Values : 67\n",
      "Age NaN Values : 0\n",
      "Age Mean: 43.46690629647992\n",
      "Graduated Unique Values : 3\n",
      "Graduated NaN Values : 78\n",
      "Graduated Mode: Yes\n",
      "Profession Unique Values : 10\n",
      "Profession NaN Values : 124\n",
      "Profession Mode: Artist\n",
      "Work_Experience Unique Values : 16\n",
      "Work_Experience NaN Values : 829\n",
      "Work_Experience Mode: 1.0\n",
      "Spending_Score Unique Values : 3\n",
      "Spending_Score NaN Values : 0\n",
      "Spending_Score Mode: Low\n",
      "Family_Size Unique Values : 10\n",
      "Family_Size NaN Values : 335\n",
      "Family_Size Mode: 2.0\n",
      "Var_1 Unique Values : 8\n",
      "Var_1 NaN Values : 76\n",
      "Var_1 Mode: Cat_6\n",
      "Segmentation Unique Values : 4\n",
      "Segmentation NaN Values : 0\n",
      "Segmentation Mode: D\n"
     ]
    }
   ],
   "source": [
    "trainingData = []\n",
    "\n",
    "for i in data_train.columns:\n",
    "    \n",
    "    print(f'{i} Unique Values :',len(data_train[i].unique()))\n",
    "    print(f'{i} NaN Values :',data_train[i].isna().sum())\n",
    "    \n",
    "    trainingData.append(i)\n",
    "    trainingData.append(len(data_train[i].unique()))\n",
    "    trainingData.append(data_train[i].isna().sum())\n",
    "    \n",
    "    if data_train[i].dtype==\"int64\":\n",
    "        print(f'{i} Mean:',data_train[i].mean())\n",
    "        trainingData.append(data_train[i].mean())\n",
    "    else:\n",
    "        print(f'{i} Mode:',data_train[i].mode().values[0])\n",
    "        trainingData.append(data_train[i].mode().values[0])\n",
    "\n",
    "training_data_result = pd.DataFrame(np.array(trainingData).reshape(len(data_train.columns),4),\n",
    "                                    columns =['Feature','Unique Values','Nan Values','Mode'])"
   ]
  },
  {
   "cell_type": "code",
   "execution_count": 5,
   "id": "deebe8a7",
   "metadata": {},
   "outputs": [
    {
     "name": "stdout",
     "output_type": "stream",
     "text": [
      "<class 'pandas.core.frame.DataFrame'>\n",
      "RangeIndex: 8068 entries, 0 to 8067\n",
      "Data columns (total 10 columns):\n",
      " #   Column           Non-Null Count  Dtype  \n",
      "---  ------           --------------  -----  \n",
      " 0   Gender           8068 non-null   object \n",
      " 1   Ever_Married     7928 non-null   object \n",
      " 2   Age              8068 non-null   int64  \n",
      " 3   Graduated        7990 non-null   object \n",
      " 4   Profession       7944 non-null   object \n",
      " 5   Work_Experience  7239 non-null   float64\n",
      " 6   Spending_Score   8068 non-null   object \n",
      " 7   Family_Size      7733 non-null   float64\n",
      " 8   Var_1            7992 non-null   object \n",
      " 9   Segmentation     8068 non-null   object \n",
      "dtypes: float64(2), int64(1), object(7)\n",
      "memory usage: 630.4+ KB\n"
     ]
    }
   ],
   "source": [
    "data_train.info()"
   ]
  },
  {
   "cell_type": "code",
   "execution_count": 6,
   "id": "46071e48",
   "metadata": {},
   "outputs": [
    {
     "data": {
      "text/html": [
       "<div>\n",
       "<style scoped>\n",
       "    .dataframe tbody tr th:only-of-type {\n",
       "        vertical-align: middle;\n",
       "    }\n",
       "\n",
       "    .dataframe tbody tr th {\n",
       "        vertical-align: top;\n",
       "    }\n",
       "\n",
       "    .dataframe thead th {\n",
       "        text-align: right;\n",
       "    }\n",
       "</style>\n",
       "<table border=\"1\" class=\"dataframe\">\n",
       "  <thead>\n",
       "    <tr style=\"text-align: right;\">\n",
       "      <th></th>\n",
       "      <th>Age</th>\n",
       "      <th>Work_Experience</th>\n",
       "      <th>Family_Size</th>\n",
       "    </tr>\n",
       "  </thead>\n",
       "  <tbody>\n",
       "    <tr>\n",
       "      <th>count</th>\n",
       "      <td>8068.000000</td>\n",
       "      <td>7239.000000</td>\n",
       "      <td>7733.000000</td>\n",
       "    </tr>\n",
       "    <tr>\n",
       "      <th>mean</th>\n",
       "      <td>43.466906</td>\n",
       "      <td>2.641663</td>\n",
       "      <td>2.850123</td>\n",
       "    </tr>\n",
       "    <tr>\n",
       "      <th>std</th>\n",
       "      <td>16.711696</td>\n",
       "      <td>3.406763</td>\n",
       "      <td>1.531413</td>\n",
       "    </tr>\n",
       "    <tr>\n",
       "      <th>min</th>\n",
       "      <td>18.000000</td>\n",
       "      <td>0.000000</td>\n",
       "      <td>1.000000</td>\n",
       "    </tr>\n",
       "    <tr>\n",
       "      <th>25%</th>\n",
       "      <td>30.000000</td>\n",
       "      <td>0.000000</td>\n",
       "      <td>2.000000</td>\n",
       "    </tr>\n",
       "    <tr>\n",
       "      <th>50%</th>\n",
       "      <td>40.000000</td>\n",
       "      <td>1.000000</td>\n",
       "      <td>3.000000</td>\n",
       "    </tr>\n",
       "    <tr>\n",
       "      <th>75%</th>\n",
       "      <td>53.000000</td>\n",
       "      <td>4.000000</td>\n",
       "      <td>4.000000</td>\n",
       "    </tr>\n",
       "    <tr>\n",
       "      <th>max</th>\n",
       "      <td>89.000000</td>\n",
       "      <td>14.000000</td>\n",
       "      <td>9.000000</td>\n",
       "    </tr>\n",
       "  </tbody>\n",
       "</table>\n",
       "</div>"
      ],
      "text/plain": [
       "               Age  Work_Experience  Family_Size\n",
       "count  8068.000000      7239.000000  7733.000000\n",
       "mean     43.466906         2.641663     2.850123\n",
       "std      16.711696         3.406763     1.531413\n",
       "min      18.000000         0.000000     1.000000\n",
       "25%      30.000000         0.000000     2.000000\n",
       "50%      40.000000         1.000000     3.000000\n",
       "75%      53.000000         4.000000     4.000000\n",
       "max      89.000000        14.000000     9.000000"
      ]
     },
     "execution_count": 6,
     "metadata": {},
     "output_type": "execute_result"
    }
   ],
   "source": [
    "data_train.describe()"
   ]
  },
  {
   "cell_type": "code",
   "execution_count": 7,
   "id": "f84b4d02",
   "metadata": {},
   "outputs": [
    {
     "name": "stdout",
     "output_type": "stream",
     "text": [
      "ID Unique Values : 2627\n",
      "ID NaN Values : 0\n",
      "ID Mean: 463433.91891891893\n",
      "Gender Unique Values : 2\n",
      "Gender NaN Values : 0\n",
      "Gender Mode: Male\n",
      "Ever_Married Unique Values : 3\n",
      "Ever_Married NaN Values : 50\n",
      "Ever_Married Mode: Yes\n",
      "Age Unique Values : 67\n",
      "Age NaN Values : 0\n",
      "Age Mean: 43.649790635706125\n",
      "Graduated Unique Values : 3\n",
      "Graduated NaN Values : 24\n",
      "Graduated Mode: Yes\n",
      "Profession Unique Values : 10\n",
      "Profession NaN Values : 38\n",
      "Profession Mode: Artist\n",
      "Work_Experience Unique Values : 16\n",
      "Work_Experience NaN Values : 269\n",
      "Work_Experience Mode: 1.0\n",
      "Spending_Score Unique Values : 3\n",
      "Spending_Score NaN Values : 0\n",
      "Spending_Score Mode: Low\n",
      "Family_Size Unique Values : 10\n",
      "Family_Size NaN Values : 113\n",
      "Family_Size Mode: 2.0\n",
      "Var_1 Unique Values : 8\n",
      "Var_1 NaN Values : 32\n",
      "Var_1 Mode: Cat_6\n"
     ]
    }
   ],
   "source": [
    "testData = []\n",
    "\n",
    "for i in data_test.columns:\n",
    "    \n",
    "    print(f'{i} Unique Values :',len(data_test[i].unique()))\n",
    "    print(f'{i} NaN Values :',data_test[i].isna().sum())\n",
    "    \n",
    "    testData.append(i)\n",
    "    testData.append(len(data_test[i].unique()))\n",
    "    testData.append(data_test[i].isna().sum())\n",
    "    \n",
    "    if data_test[i].dtype==\"int64\":\n",
    "        print(f'{i} Mean:',data_test[i].mean())\n",
    "        testData.append(data_test[i].mean())\n",
    "    else:\n",
    "        print(f'{i} Mode:',data_test[i].mode().values[0])\n",
    "        testData.append(data_test[i].mode().values[0])\n",
    "\n",
    "test_data_result = pd.DataFrame(np.array(testData).reshape(len(data_test.columns),4),\n",
    "                                    columns =['Feature','Unique Values','Nan Values','Mode'])"
   ]
  },
  {
   "cell_type": "code",
   "execution_count": 8,
   "id": "d112b3e8",
   "metadata": {},
   "outputs": [
    {
     "name": "stdout",
     "output_type": "stream",
     "text": [
      "<class 'pandas.core.frame.DataFrame'>\n",
      "RangeIndex: 2627 entries, 0 to 2626\n",
      "Data columns (total 10 columns):\n",
      " #   Column           Non-Null Count  Dtype  \n",
      "---  ------           --------------  -----  \n",
      " 0   ID               2627 non-null   int64  \n",
      " 1   Gender           2627 non-null   object \n",
      " 2   Ever_Married     2577 non-null   object \n",
      " 3   Age              2627 non-null   int64  \n",
      " 4   Graduated        2603 non-null   object \n",
      " 5   Profession       2589 non-null   object \n",
      " 6   Work_Experience  2358 non-null   float64\n",
      " 7   Spending_Score   2627 non-null   object \n",
      " 8   Family_Size      2514 non-null   float64\n",
      " 9   Var_1            2595 non-null   object \n",
      "dtypes: float64(2), int64(2), object(6)\n",
      "memory usage: 205.4+ KB\n"
     ]
    }
   ],
   "source": [
    "data_test.info()"
   ]
  },
  {
   "cell_type": "code",
   "execution_count": 9,
   "id": "c11a569f",
   "metadata": {},
   "outputs": [
    {
     "data": {
      "text/html": [
       "<div>\n",
       "<style scoped>\n",
       "    .dataframe tbody tr th:only-of-type {\n",
       "        vertical-align: middle;\n",
       "    }\n",
       "\n",
       "    .dataframe tbody tr th {\n",
       "        vertical-align: top;\n",
       "    }\n",
       "\n",
       "    .dataframe thead th {\n",
       "        text-align: right;\n",
       "    }\n",
       "</style>\n",
       "<table border=\"1\" class=\"dataframe\">\n",
       "  <thead>\n",
       "    <tr style=\"text-align: right;\">\n",
       "      <th></th>\n",
       "      <th>count</th>\n",
       "      <th>mean</th>\n",
       "      <th>std</th>\n",
       "      <th>min</th>\n",
       "      <th>25%</th>\n",
       "      <th>50%</th>\n",
       "      <th>75%</th>\n",
       "      <th>max</th>\n",
       "    </tr>\n",
       "  </thead>\n",
       "  <tbody>\n",
       "    <tr>\n",
       "      <th>ID</th>\n",
       "      <td>2627.0</td>\n",
       "      <td>463433.918919</td>\n",
       "      <td>2618.245698</td>\n",
       "      <td>458989.0</td>\n",
       "      <td>461162.5</td>\n",
       "      <td>463379.0</td>\n",
       "      <td>465696.0</td>\n",
       "      <td>467968.0</td>\n",
       "    </tr>\n",
       "    <tr>\n",
       "      <th>Age</th>\n",
       "      <td>2627.0</td>\n",
       "      <td>43.649791</td>\n",
       "      <td>16.967015</td>\n",
       "      <td>18.0</td>\n",
       "      <td>30.0</td>\n",
       "      <td>41.0</td>\n",
       "      <td>53.0</td>\n",
       "      <td>89.0</td>\n",
       "    </tr>\n",
       "    <tr>\n",
       "      <th>Work_Experience</th>\n",
       "      <td>2358.0</td>\n",
       "      <td>2.552587</td>\n",
       "      <td>3.341094</td>\n",
       "      <td>0.0</td>\n",
       "      <td>0.0</td>\n",
       "      <td>1.0</td>\n",
       "      <td>4.0</td>\n",
       "      <td>14.0</td>\n",
       "    </tr>\n",
       "    <tr>\n",
       "      <th>Family_Size</th>\n",
       "      <td>2514.0</td>\n",
       "      <td>2.825378</td>\n",
       "      <td>1.551906</td>\n",
       "      <td>1.0</td>\n",
       "      <td>2.0</td>\n",
       "      <td>2.0</td>\n",
       "      <td>4.0</td>\n",
       "      <td>9.0</td>\n",
       "    </tr>\n",
       "  </tbody>\n",
       "</table>\n",
       "</div>"
      ],
      "text/plain": [
       "                  count           mean          std       min       25%  \\\n",
       "ID               2627.0  463433.918919  2618.245698  458989.0  461162.5   \n",
       "Age              2627.0      43.649791    16.967015      18.0      30.0   \n",
       "Work_Experience  2358.0       2.552587     3.341094       0.0       0.0   \n",
       "Family_Size      2514.0       2.825378     1.551906       1.0       2.0   \n",
       "\n",
       "                      50%       75%       max  \n",
       "ID               463379.0  465696.0  467968.0  \n",
       "Age                  41.0      53.0      89.0  \n",
       "Work_Experience       1.0       4.0      14.0  \n",
       "Family_Size           2.0       4.0       9.0  "
      ]
     },
     "execution_count": 9,
     "metadata": {},
     "output_type": "execute_result"
    }
   ],
   "source": [
    "data_test.describe().T"
   ]
  },
  {
   "cell_type": "code",
   "execution_count": 10,
   "id": "f8004a3a",
   "metadata": {},
   "outputs": [
    {
     "data": {
      "text/html": [
       "<div>\n",
       "<style scoped>\n",
       "    .dataframe tbody tr th:only-of-type {\n",
       "        vertical-align: middle;\n",
       "    }\n",
       "\n",
       "    .dataframe tbody tr th {\n",
       "        vertical-align: top;\n",
       "    }\n",
       "\n",
       "    .dataframe thead th {\n",
       "        text-align: right;\n",
       "    }\n",
       "</style>\n",
       "<table border=\"1\" class=\"dataframe\">\n",
       "  <thead>\n",
       "    <tr style=\"text-align: right;\">\n",
       "      <th></th>\n",
       "      <th>Feature</th>\n",
       "      <th>Unique Values</th>\n",
       "      <th>Nan Values</th>\n",
       "      <th>Mode</th>\n",
       "      <th>Feature</th>\n",
       "      <th>Unique Values</th>\n",
       "      <th>Nan Values</th>\n",
       "      <th>Mode</th>\n",
       "    </tr>\n",
       "  </thead>\n",
       "  <tbody>\n",
       "    <tr>\n",
       "      <th>0</th>\n",
       "      <td>Gender</td>\n",
       "      <td>2</td>\n",
       "      <td>0</td>\n",
       "      <td>Male</td>\n",
       "      <td>ID</td>\n",
       "      <td>2627</td>\n",
       "      <td>0</td>\n",
       "      <td>463433.91891891893</td>\n",
       "    </tr>\n",
       "    <tr>\n",
       "      <th>1</th>\n",
       "      <td>Ever_Married</td>\n",
       "      <td>3</td>\n",
       "      <td>140</td>\n",
       "      <td>Yes</td>\n",
       "      <td>Gender</td>\n",
       "      <td>2</td>\n",
       "      <td>0</td>\n",
       "      <td>Male</td>\n",
       "    </tr>\n",
       "    <tr>\n",
       "      <th>2</th>\n",
       "      <td>Age</td>\n",
       "      <td>67</td>\n",
       "      <td>0</td>\n",
       "      <td>43.46690629647992</td>\n",
       "      <td>Ever_Married</td>\n",
       "      <td>3</td>\n",
       "      <td>50</td>\n",
       "      <td>Yes</td>\n",
       "    </tr>\n",
       "    <tr>\n",
       "      <th>3</th>\n",
       "      <td>Graduated</td>\n",
       "      <td>3</td>\n",
       "      <td>78</td>\n",
       "      <td>Yes</td>\n",
       "      <td>Age</td>\n",
       "      <td>67</td>\n",
       "      <td>0</td>\n",
       "      <td>43.649790635706125</td>\n",
       "    </tr>\n",
       "    <tr>\n",
       "      <th>4</th>\n",
       "      <td>Profession</td>\n",
       "      <td>10</td>\n",
       "      <td>124</td>\n",
       "      <td>Artist</td>\n",
       "      <td>Graduated</td>\n",
       "      <td>3</td>\n",
       "      <td>24</td>\n",
       "      <td>Yes</td>\n",
       "    </tr>\n",
       "    <tr>\n",
       "      <th>5</th>\n",
       "      <td>Work_Experience</td>\n",
       "      <td>16</td>\n",
       "      <td>829</td>\n",
       "      <td>1.0</td>\n",
       "      <td>Profession</td>\n",
       "      <td>10</td>\n",
       "      <td>38</td>\n",
       "      <td>Artist</td>\n",
       "    </tr>\n",
       "    <tr>\n",
       "      <th>6</th>\n",
       "      <td>Spending_Score</td>\n",
       "      <td>3</td>\n",
       "      <td>0</td>\n",
       "      <td>Low</td>\n",
       "      <td>Work_Experience</td>\n",
       "      <td>16</td>\n",
       "      <td>269</td>\n",
       "      <td>1.0</td>\n",
       "    </tr>\n",
       "    <tr>\n",
       "      <th>7</th>\n",
       "      <td>Family_Size</td>\n",
       "      <td>10</td>\n",
       "      <td>335</td>\n",
       "      <td>2.0</td>\n",
       "      <td>Spending_Score</td>\n",
       "      <td>3</td>\n",
       "      <td>0</td>\n",
       "      <td>Low</td>\n",
       "    </tr>\n",
       "    <tr>\n",
       "      <th>8</th>\n",
       "      <td>Var_1</td>\n",
       "      <td>8</td>\n",
       "      <td>76</td>\n",
       "      <td>Cat_6</td>\n",
       "      <td>Family_Size</td>\n",
       "      <td>10</td>\n",
       "      <td>113</td>\n",
       "      <td>2.0</td>\n",
       "    </tr>\n",
       "    <tr>\n",
       "      <th>9</th>\n",
       "      <td>Segmentation</td>\n",
       "      <td>4</td>\n",
       "      <td>0</td>\n",
       "      <td>D</td>\n",
       "      <td>Var_1</td>\n",
       "      <td>8</td>\n",
       "      <td>32</td>\n",
       "      <td>Cat_6</td>\n",
       "    </tr>\n",
       "  </tbody>\n",
       "</table>\n",
       "</div>"
      ],
      "text/plain": [
       "           Feature Unique Values Nan Values               Mode  \\\n",
       "0           Gender             2          0               Male   \n",
       "1     Ever_Married             3        140                Yes   \n",
       "2              Age            67          0  43.46690629647992   \n",
       "3        Graduated             3         78                Yes   \n",
       "4       Profession            10        124             Artist   \n",
       "5  Work_Experience            16        829                1.0   \n",
       "6   Spending_Score             3          0                Low   \n",
       "7      Family_Size            10        335                2.0   \n",
       "8            Var_1             8         76              Cat_6   \n",
       "9     Segmentation             4          0                  D   \n",
       "\n",
       "           Feature Unique Values Nan Values                Mode  \n",
       "0               ID          2627          0  463433.91891891893  \n",
       "1           Gender             2          0                Male  \n",
       "2     Ever_Married             3         50                 Yes  \n",
       "3              Age            67          0  43.649790635706125  \n",
       "4        Graduated             3         24                 Yes  \n",
       "5       Profession            10         38              Artist  \n",
       "6  Work_Experience            16        269                 1.0  \n",
       "7   Spending_Score             3          0                 Low  \n",
       "8      Family_Size            10        113                 2.0  \n",
       "9            Var_1             8         32               Cat_6  "
      ]
     },
     "execution_count": 10,
     "metadata": {},
     "output_type": "execute_result"
    }
   ],
   "source": [
    "pd.concat([training_data_result,test_data_result],axis=1)"
   ]
  },
  {
   "cell_type": "markdown",
   "id": "44140d3f",
   "metadata": {},
   "source": [
    "# Data Cleaning and Visualisation "
   ]
  },
  {
   "cell_type": "code",
   "execution_count": 11,
   "id": "23052a96",
   "metadata": {},
   "outputs": [
    {
     "data": {
      "text/plain": [
       "Index(['Yes', 'No'], dtype='object')"
      ]
     },
     "execution_count": 11,
     "metadata": {},
     "output_type": "execute_result"
    }
   ],
   "source": [
    "data_train['Graduated'].value_counts().index"
   ]
  },
  {
   "cell_type": "code",
   "execution_count": 12,
   "id": "fe72e7d8",
   "metadata": {},
   "outputs": [
    {
     "data": {
      "text/plain": [
       "Text(0.5, 1.0, 'Distribution of Marriage')"
      ]
     },
     "execution_count": 12,
     "metadata": {},
     "output_type": "execute_result"
    },
    {
     "data": {
      "image/png": "[encoded data removed]",
      "text/plain": [
       "<Figure size 1440x720 with 4 Axes>"
      ]
     },
     "metadata": {},
     "output_type": "display_data"
    }
   ],
   "source": [
    "fig,ax = plt.subplots(2,2,figsize = (20,10))\n",
    "colors=[\"#FF7C00\", \"#E8000B\",\"#1AC938\"]\n",
    "\n",
    "ax[0,0].pie(x = data_train['Gender'].value_counts().values,labels=data_train['Gender'].value_counts().index,autopct=\"%.2f\",\n",
    "            colors=colors,explode=[0,.1])\n",
    "ax[0,0].set_title('Distribution of Gender')\n",
    "\n",
    "ax[0,1].pie(x = data_train['Graduated'].value_counts().values,labels=data_train['Graduated'].value_counts().index,\n",
    "            autopct=\"%.2f\",colors=colors,explode=[0,.1])\n",
    "ax[0,1].set_title('Distribution of Graduates')\n",
    "\n",
    "ax[1,0].pie(x = data_train['Spending_Score'].value_counts().values,labels=data_train['Spending_Score'].value_counts().index,\n",
    "            autopct=\"%.2f\",colors=colors,explode=[0,.1,.1])\n",
    "ax[1,0].set_title('Distribution of Spending Power')\n",
    "\n",
    "ax[1,1].pie(x=data_train['Ever_Married'].value_counts().values,labels=data_train['Ever_Married'].value_counts().index,\n",
    "            autopct=\"%.2f\",colors=colors,explode=[0,.1])\n",
    "ax[1,1].set_title('Distribution of Marriage')"
   ]
  },
  {
   "cell_type": "code",
   "execution_count": 13,
   "id": "321e56a8",
   "metadata": {},
   "outputs": [
    {
     "data": {
      "image/png": "[encoded data removed]",
      "text/plain": [
       "<Figure size 1800x1080 with 4 Axes>"
      ]
     },
     "metadata": {
      "needs_background": "light"
     },
     "output_type": "display_data"
    }
   ],
   "source": [
    "f, ax  = plt.subplots(2,2,figsize = (25,15))\n",
    "colors=[\"#023EFF\",\"#FF7C00\", \"#E8000B\",\"#1AC938\"]\n",
    "labels = [\"D\",\"C\",\"A\",\"B\"]\n",
    "\n",
    "ax1 = sns.countplot(data_train['Profession'],ax=ax[0][0],palette = \"bright\")\n",
    "ax1.set_xticklabels(ax1.get_xticklabels(), rotation=40, ha=\"right\")\n",
    "\n",
    "sns.countplot(data_train['Work_Experience'],ax=ax[0][1],palette = \"bright\")\n",
    "sns.countplot(data_train['Family_Size'],ax=ax[1][0],palette = \"bright\")\n",
    "sns.countplot(data_train['Var_1'],ax=ax[1][1],palette = \"bright\")\n",
    "plt.show()"
   ]
  },
  {
   "cell_type": "code",
   "execution_count": 14,
   "id": "892ece2f",
   "metadata": {},
   "outputs": [],
   "source": [
    "#Get Box Plots for Family Size, Work Experience, Age"
   ]
  },
  {
   "cell_type": "code",
   "execution_count": 15,
   "id": "00e6d245",
   "metadata": {},
   "outputs": [
    {
     "data": {
      "text/plain": [
       "<AxesSubplot:>"
      ]
     },
     "execution_count": 15,
     "metadata": {},
     "output_type": "execute_result"
    },
    {
     "data": {
      "image/png": "[encoded data removed]",
      "text/plain": [
       "<Figure size 360x1512 with 3 Axes>"
      ]
     },
     "metadata": {
      "needs_background": "light"
     },
     "output_type": "display_data"
    }
   ],
   "source": [
    "fig , ax = plt.subplots(3,figsize=(5,21))\n",
    "\n",
    "data_train['Family_Size'].plot.box(ax=ax[0])\n",
    "data_train['Age'].plot.box(ax=ax[1])\n",
    "data_train['Family_Size'].plot.box(ax=ax[2])"
   ]
  },
  {
   "cell_type": "markdown",
   "id": "35410bbd",
   "metadata": {},
   "source": [
    "# Clean Data By Removing Missing Values"
   ]
  },
  {
   "cell_type": "code",
   "execution_count": 16,
   "id": "3206334e",
   "metadata": {},
   "outputs": [],
   "source": [
    "#Remove Rows having missing values"
   ]
  },
  {
   "cell_type": "code",
   "execution_count": 17,
   "id": "7154491a",
   "metadata": {},
   "outputs": [
    {
     "name": "stdout",
     "output_type": "stream",
     "text": [
      "<class 'pandas.core.frame.DataFrame'>\n",
      "RangeIndex: 8068 entries, 0 to 8067\n",
      "Data columns (total 10 columns):\n",
      " #   Column           Non-Null Count  Dtype  \n",
      "---  ------           --------------  -----  \n",
      " 0   Gender           8068 non-null   object \n",
      " 1   Ever_Married     7928 non-null   object \n",
      " 2   Age              8068 non-null   int64  \n",
      " 3   Graduated        7990 non-null   object \n",
      " 4   Profession       7944 non-null   object \n",
      " 5   Work_Experience  7239 non-null   float64\n",
      " 6   Spending_Score   8068 non-null   object \n",
      " 7   Family_Size      7733 non-null   float64\n",
      " 8   Var_1            7992 non-null   object \n",
      " 9   Segmentation     8068 non-null   object \n",
      "dtypes: float64(2), int64(1), object(7)\n",
      "memory usage: 630.4+ KB\n"
     ]
    }
   ],
   "source": [
    "data_train.info()"
   ]
  },
  {
   "cell_type": "code",
   "execution_count": 18,
   "id": "96c255ea",
   "metadata": {},
   "outputs": [],
   "source": [
    "data_train.dropna(inplace=True)"
   ]
  },
  {
   "cell_type": "code",
   "execution_count": 19,
   "id": "765b91c3",
   "metadata": {},
   "outputs": [
    {
     "name": "stdout",
     "output_type": "stream",
     "text": [
      "<class 'pandas.core.frame.DataFrame'>\n",
      "RangeIndex: 2627 entries, 0 to 2626\n",
      "Data columns (total 10 columns):\n",
      " #   Column           Non-Null Count  Dtype  \n",
      "---  ------           --------------  -----  \n",
      " 0   ID               2627 non-null   int64  \n",
      " 1   Gender           2627 non-null   object \n",
      " 2   Ever_Married     2577 non-null   object \n",
      " 3   Age              2627 non-null   int64  \n",
      " 4   Graduated        2603 non-null   object \n",
      " 5   Profession       2589 non-null   object \n",
      " 6   Work_Experience  2358 non-null   float64\n",
      " 7   Spending_Score   2627 non-null   object \n",
      " 8   Family_Size      2514 non-null   float64\n",
      " 9   Var_1            2595 non-null   object \n",
      "dtypes: float64(2), int64(2), object(6)\n",
      "memory usage: 205.4+ KB\n"
     ]
    }
   ],
   "source": [
    "data_test.info()"
   ]
  },
  {
   "cell_type": "code",
   "execution_count": 20,
   "id": "bde3c2b9",
   "metadata": {},
   "outputs": [],
   "source": [
    "data_test.dropna(inplace=True)"
   ]
  },
  {
   "cell_type": "code",
   "execution_count": 21,
   "id": "81db7c5d",
   "metadata": {},
   "outputs": [
    {
     "name": "stdout",
     "output_type": "stream",
     "text": [
      "<class 'pandas.core.frame.DataFrame'>\n",
      "Int64Index: 2154 entries, 0 to 2626\n",
      "Data columns (total 10 columns):\n",
      " #   Column           Non-Null Count  Dtype  \n",
      "---  ------           --------------  -----  \n",
      " 0   ID               2154 non-null   int64  \n",
      " 1   Gender           2154 non-null   object \n",
      " 2   Ever_Married     2154 non-null   object \n",
      " 3   Age              2154 non-null   int64  \n",
      " 4   Graduated        2154 non-null   object \n",
      " 5   Profession       2154 non-null   object \n",
      " 6   Work_Experience  2154 non-null   float64\n",
      " 7   Spending_Score   2154 non-null   object \n",
      " 8   Family_Size      2154 non-null   float64\n",
      " 9   Var_1            2154 non-null   object \n",
      "dtypes: float64(2), int64(2), object(6)\n",
      "memory usage: 185.1+ KB\n"
     ]
    }
   ],
   "source": [
    "data_test.info()"
   ]
  },
  {
   "cell_type": "code",
   "execution_count": 22,
   "id": "78fa2957",
   "metadata": {},
   "outputs": [
    {
     "name": "stdout",
     "output_type": "stream",
     "text": [
      "<class 'pandas.core.frame.DataFrame'>\n",
      "Int64Index: 6665 entries, 0 to 8067\n",
      "Data columns (total 10 columns):\n",
      " #   Column           Non-Null Count  Dtype  \n",
      "---  ------           --------------  -----  \n",
      " 0   Gender           6665 non-null   object \n",
      " 1   Ever_Married     6665 non-null   object \n",
      " 2   Age              6665 non-null   int64  \n",
      " 3   Graduated        6665 non-null   object \n",
      " 4   Profession       6665 non-null   object \n",
      " 5   Work_Experience  6665 non-null   float64\n",
      " 6   Spending_Score   6665 non-null   object \n",
      " 7   Family_Size      6665 non-null   float64\n",
      " 8   Var_1            6665 non-null   object \n",
      " 9   Segmentation     6665 non-null   object \n",
      "dtypes: float64(2), int64(1), object(7)\n",
      "memory usage: 572.8+ KB\n"
     ]
    }
   ],
   "source": [
    "data_train.info()"
   ]
  },
  {
   "cell_type": "code",
   "execution_count": 23,
   "id": "2b4ceb3d",
   "metadata": {},
   "outputs": [
    {
     "name": "stdout",
     "output_type": "stream",
     "text": [
      "D\n",
      "Values Count: 1757\n",
      "B\n",
      "Values Count: 1572\n",
      "C\n",
      "Values Count: 1720\n",
      "A\n",
      "Values Count: 1616\n"
     ]
    }
   ],
   "source": [
    "for i in data_train[\"Segmentation\"].unique():\n",
    "    print(i)\n",
    "    print(\"Values Count:\",len(data_train[data_train[\"Segmentation\"]==i]))\n",
    "#   print(\"Total: \",Data_train[Data_train[\"Segmentation\"]==i].isna().sum().sum())"
   ]
  },
  {
   "cell_type": "markdown",
   "id": "5f8e6d7a",
   "metadata": {},
   "source": [
    "# Label Encoding of Data"
   ]
  },
  {
   "cell_type": "code",
   "execution_count": 24,
   "id": "cd062fa5",
   "metadata": {},
   "outputs": [],
   "source": [
    "from sklearn.model_selection import train_test_split\n",
    "from sklearn.metrics import accuracy_score,classification_report,confusion_matrix\n",
    "from sklearn.model_selection import cross_val_score\n",
    "from sklearn.model_selection import GridSearchCV\n",
    "from sklearn.preprocessing import LabelEncoder"
   ]
  },
  {
   "cell_type": "markdown",
   "id": "b57525a0",
   "metadata": {},
   "source": [
    "## Train Data"
   ]
  },
  {
   "cell_type": "code",
   "execution_count": 25,
   "id": "06c2e182",
   "metadata": {},
   "outputs": [],
   "source": [
    "columnsToEncode = [\"Gender\",\"Ever_Married\",\"Graduated\",\"Profession\",\"Spending_Score\",\"Var_1\"]\n",
    "labelEncoder = LabelEncoder()\n",
    "\n",
    "for column in columnsToEncode:    \n",
    "    labelEncoder.fit(data_train[column])\n",
    "    data_train[column]=labelEncoder.transform(data_train[column])\n",
    "    data_test[column]=labelEncoder.transform(data_test[column])"
   ]
  },
  {
   "cell_type": "code",
   "execution_count": 26,
   "id": "7637fae4",
   "metadata": {},
   "outputs": [
    {
     "data": {
      "text/html": [
       "<div>\n",
       "<style scoped>\n",
       "    .dataframe tbody tr th:only-of-type {\n",
       "        vertical-align: middle;\n",
       "    }\n",
       "\n",
       "    .dataframe tbody tr th {\n",
       "        vertical-align: top;\n",
       "    }\n",
       "\n",
       "    .dataframe thead th {\n",
       "        text-align: right;\n",
       "    }\n",
       "</style>\n",
       "<table border=\"1\" class=\"dataframe\">\n",
       "  <thead>\n",
       "    <tr style=\"text-align: right;\">\n",
       "      <th></th>\n",
       "      <th>Gender</th>\n",
       "      <th>Ever_Married</th>\n",
       "      <th>Age</th>\n",
       "      <th>Graduated</th>\n",
       "      <th>Profession</th>\n",
       "      <th>Work_Experience</th>\n",
       "      <th>Spending_Score</th>\n",
       "      <th>Family_Size</th>\n",
       "      <th>Var_1</th>\n",
       "      <th>Segmentation</th>\n",
       "    </tr>\n",
       "  </thead>\n",
       "  <tbody>\n",
       "    <tr>\n",
       "      <th>0</th>\n",
       "      <td>1</td>\n",
       "      <td>0</td>\n",
       "      <td>22</td>\n",
       "      <td>0</td>\n",
       "      <td>5</td>\n",
       "      <td>1.0</td>\n",
       "      <td>2</td>\n",
       "      <td>4.0</td>\n",
       "      <td>3</td>\n",
       "      <td>D</td>\n",
       "    </tr>\n",
       "    <tr>\n",
       "      <th>2</th>\n",
       "      <td>0</td>\n",
       "      <td>1</td>\n",
       "      <td>67</td>\n",
       "      <td>1</td>\n",
       "      <td>2</td>\n",
       "      <td>1.0</td>\n",
       "      <td>2</td>\n",
       "      <td>1.0</td>\n",
       "      <td>5</td>\n",
       "      <td>B</td>\n",
       "    </tr>\n",
       "    <tr>\n",
       "      <th>3</th>\n",
       "      <td>1</td>\n",
       "      <td>1</td>\n",
       "      <td>67</td>\n",
       "      <td>1</td>\n",
       "      <td>7</td>\n",
       "      <td>0.0</td>\n",
       "      <td>1</td>\n",
       "      <td>2.0</td>\n",
       "      <td>5</td>\n",
       "      <td>B</td>\n",
       "    </tr>\n",
       "    <tr>\n",
       "      <th>5</th>\n",
       "      <td>1</td>\n",
       "      <td>1</td>\n",
       "      <td>56</td>\n",
       "      <td>0</td>\n",
       "      <td>0</td>\n",
       "      <td>0.0</td>\n",
       "      <td>0</td>\n",
       "      <td>2.0</td>\n",
       "      <td>5</td>\n",
       "      <td>C</td>\n",
       "    </tr>\n",
       "    <tr>\n",
       "      <th>6</th>\n",
       "      <td>1</td>\n",
       "      <td>0</td>\n",
       "      <td>32</td>\n",
       "      <td>1</td>\n",
       "      <td>5</td>\n",
       "      <td>1.0</td>\n",
       "      <td>2</td>\n",
       "      <td>3.0</td>\n",
       "      <td>5</td>\n",
       "      <td>C</td>\n",
       "    </tr>\n",
       "  </tbody>\n",
       "</table>\n",
       "</div>"
      ],
      "text/plain": [
       "   Gender  Ever_Married  Age  Graduated  Profession  Work_Experience  \\\n",
       "0       1             0   22          0           5              1.0   \n",
       "2       0             1   67          1           2              1.0   \n",
       "3       1             1   67          1           7              0.0   \n",
       "5       1             1   56          0           0              0.0   \n",
       "6       1             0   32          1           5              1.0   \n",
       "\n",
       "   Spending_Score  Family_Size  Var_1 Segmentation  \n",
       "0               2          4.0      3            D  \n",
       "2               2          1.0      5            B  \n",
       "3               1          2.0      5            B  \n",
       "5               0          2.0      5            C  \n",
       "6               2          3.0      5            C  "
      ]
     },
     "execution_count": 26,
     "metadata": {},
     "output_type": "execute_result"
    }
   ],
   "source": [
    "data_train.head()"
   ]
  },
  {
   "cell_type": "markdown",
   "id": "8a41ee3e",
   "metadata": {},
   "source": [
    "## Test Data"
   ]
  },
  {
   "cell_type": "code",
   "execution_count": 27,
   "id": "1b1d9684",
   "metadata": {},
   "outputs": [
    {
     "data": {
      "text/html": [
       "<div>\n",
       "<style scoped>\n",
       "    .dataframe tbody tr th:only-of-type {\n",
       "        vertical-align: middle;\n",
       "    }\n",
       "\n",
       "    .dataframe tbody tr th {\n",
       "        vertical-align: top;\n",
       "    }\n",
       "\n",
       "    .dataframe thead th {\n",
       "        text-align: right;\n",
       "    }\n",
       "</style>\n",
       "<table border=\"1\" class=\"dataframe\">\n",
       "  <thead>\n",
       "    <tr style=\"text-align: right;\">\n",
       "      <th></th>\n",
       "      <th>ID</th>\n",
       "      <th>Gender</th>\n",
       "      <th>Ever_Married</th>\n",
       "      <th>Age</th>\n",
       "      <th>Graduated</th>\n",
       "      <th>Profession</th>\n",
       "      <th>Work_Experience</th>\n",
       "      <th>Spending_Score</th>\n",
       "      <th>Family_Size</th>\n",
       "      <th>Var_1</th>\n",
       "    </tr>\n",
       "  </thead>\n",
       "  <tbody>\n",
       "    <tr>\n",
       "      <th>0</th>\n",
       "      <td>458989</td>\n",
       "      <td>0</td>\n",
       "      <td>1</td>\n",
       "      <td>36</td>\n",
       "      <td>1</td>\n",
       "      <td>2</td>\n",
       "      <td>0.0</td>\n",
       "      <td>2</td>\n",
       "      <td>1.0</td>\n",
       "      <td>5</td>\n",
       "    </tr>\n",
       "    <tr>\n",
       "      <th>1</th>\n",
       "      <td>458994</td>\n",
       "      <td>1</td>\n",
       "      <td>1</td>\n",
       "      <td>37</td>\n",
       "      <td>1</td>\n",
       "      <td>5</td>\n",
       "      <td>8.0</td>\n",
       "      <td>0</td>\n",
       "      <td>4.0</td>\n",
       "      <td>5</td>\n",
       "    </tr>\n",
       "    <tr>\n",
       "      <th>3</th>\n",
       "      <td>459000</td>\n",
       "      <td>1</td>\n",
       "      <td>1</td>\n",
       "      <td>59</td>\n",
       "      <td>0</td>\n",
       "      <td>4</td>\n",
       "      <td>11.0</td>\n",
       "      <td>1</td>\n",
       "      <td>2.0</td>\n",
       "      <td>5</td>\n",
       "    </tr>\n",
       "    <tr>\n",
       "      <th>5</th>\n",
       "      <td>459003</td>\n",
       "      <td>1</td>\n",
       "      <td>1</td>\n",
       "      <td>47</td>\n",
       "      <td>1</td>\n",
       "      <td>1</td>\n",
       "      <td>0.0</td>\n",
       "      <td>1</td>\n",
       "      <td>5.0</td>\n",
       "      <td>3</td>\n",
       "    </tr>\n",
       "    <tr>\n",
       "      <th>6</th>\n",
       "      <td>459005</td>\n",
       "      <td>1</td>\n",
       "      <td>1</td>\n",
       "      <td>61</td>\n",
       "      <td>1</td>\n",
       "      <td>1</td>\n",
       "      <td>5.0</td>\n",
       "      <td>2</td>\n",
       "      <td>3.0</td>\n",
       "      <td>5</td>\n",
       "    </tr>\n",
       "  </tbody>\n",
       "</table>\n",
       "</div>"
      ],
      "text/plain": [
       "       ID  Gender  Ever_Married  Age  Graduated  Profession  Work_Experience  \\\n",
       "0  458989       0             1   36          1           2              0.0   \n",
       "1  458994       1             1   37          1           5              8.0   \n",
       "3  459000       1             1   59          0           4             11.0   \n",
       "5  459003       1             1   47          1           1              0.0   \n",
       "6  459005       1             1   61          1           1              5.0   \n",
       "\n",
       "   Spending_Score  Family_Size  Var_1  \n",
       "0               2          1.0      5  \n",
       "1               0          4.0      5  \n",
       "3               1          2.0      5  \n",
       "5               1          5.0      3  \n",
       "6               2          3.0      5  "
      ]
     },
     "execution_count": 27,
     "metadata": {},
     "output_type": "execute_result"
    }
   ],
   "source": [
    "data_test.head()"
   ]
  },
  {
   "cell_type": "markdown",
   "id": "9f1d2bd7",
   "metadata": {},
   "source": [
    "# ML Algorithms"
   ]
  },
  {
   "cell_type": "code",
   "execution_count": 67,
   "id": "ebaf343e",
   "metadata": {},
   "outputs": [],
   "source": [
    "X = data_train.copy().drop(columns=['Segmentation']).values\n",
    "Y = data_train.copy()['Segmentation'].values\n",
    "Y=LabelEncoder().fit_transform(Y)\n",
    "m={3:\"D\",0:\"A\",1:\"B\",2:\"C\"}"
   ]
  },
  {
   "cell_type": "code",
   "execution_count": 68,
   "id": "5f115f80",
   "metadata": {},
   "outputs": [
    {
     "name": "stdout",
     "output_type": "stream",
     "text": [
      "Train_x: (6665, 9)\n",
      "Train_y: (6665,)\n"
     ]
    }
   ],
   "source": [
    "print('Train_x:',X.shape)\n",
    "print('Train_y:',Y.shape)"
   ]
  },
  {
   "cell_type": "code",
   "execution_count": 69,
   "id": "0ea88407",
   "metadata": {},
   "outputs": [],
   "source": [
    "x_train,x_test,y_train,y_test = train_test_split(X,Y,test_size=0.2,random_state=42)"
   ]
  },
  {
   "cell_type": "markdown",
   "id": "81cb9ecc",
   "metadata": {},
   "source": [
    "## Decision Tree with GridSearch for Hyper-Parameter Tuning"
   ]
  },
  {
   "cell_type": "code",
   "execution_count": 70,
   "id": "e174b625",
   "metadata": {},
   "outputs": [],
   "source": [
    "from sklearn.tree import DecisionTreeClassifier\n",
    "dt = DecisionTreeClassifier()"
   ]
  },
  {
   "cell_type": "code",
   "execution_count": 71,
   "id": "db2a9ab6",
   "metadata": {},
   "outputs": [],
   "source": [
    "params = {\"max_depth\":list(range(4,15)),\"splitter\":['random','best'],'criterion':['gini','entropy'],'random_state':[42]}"
   ]
  },
  {
   "cell_type": "code",
   "execution_count": 72,
   "id": "5247a28b",
   "metadata": {},
   "outputs": [
    {
     "data": {
      "text/html": [
       "<style>#sk-container-id-3 {color: black;background-color: white;}#sk-container-id-3 pre{padding: 0;}#sk-container-id-3 div.sk-toggleable {background-color: white;}#sk-container-id-3 label.sk-toggleable__label {cursor: pointer;display: block;width: 100%;margin-bottom: 0;padding: 0.3em;box-sizing: border-box;text-align: center;}#sk-container-id-3 label.sk-toggleable__label-arrow:before {content: \"▸\";float: left;margin-right: 0.25em;color: #696969;}#sk-container-id-3 label.sk-toggleable__label-arrow:hover:before {color: black;}#sk-container-id-3 div.sk-estimator:hover label.sk-toggleable__label-arrow:before {color: black;}#sk-container-id-3 div.sk-toggleable__content {max-height: 0;max-width: 0;overflow: hidden;text-align: left;background-color: #f0f8ff;}#sk-container-id-3 div.sk-toggleable__content pre {margin: 0.2em;color: black;border-radius: 0.25em;background-color: #f0f8ff;}#sk-container-id-3 input.sk-toggleable__control:checked~div.sk-toggleable__content {max-height: 200px;max-width: 100%;overflow: auto;}#sk-container-id-3 input.sk-toggleable__control:checked~label.sk-toggleable__label-arrow:before {content: \"▾\";}#sk-container-id-3 div.sk-estimator input.sk-toggleable__control:checked~label.sk-toggleable__label {background-color: #d4ebff;}#sk-container-id-3 div.sk-label input.sk-toggleable__control:checked~label.sk-toggleable__label {background-color: #d4ebff;}#sk-container-id-3 input.sk-hidden--visually {border: 0;clip: rect(1px 1px 1px 1px);clip: rect(1px, 1px, 1px, 1px);height: 1px;margin: -1px;overflow: hidden;padding: 0;position: absolute;width: 1px;}#sk-container-id-3 div.sk-estimator {font-family: monospace;background-color: #f0f8ff;border: 1px dotted black;border-radius: 0.25em;box-sizing: border-box;margin-bottom: 0.5em;}#sk-container-id-3 div.sk-estimator:hover {background-color: #d4ebff;}#sk-container-id-3 div.sk-parallel-item::after {content: \"\";width: 100%;border-bottom: 1px solid gray;flex-grow: 1;}#sk-container-id-3 div.sk-label:hover label.sk-toggleable__label {background-color: #d4ebff;}#sk-container-id-3 div.sk-serial::before {content: \"\";position: absolute;border-left: 1px solid gray;box-sizing: border-box;top: 0;bottom: 0;left: 50%;z-index: 0;}#sk-container-id-3 div.sk-serial {display: flex;flex-direction: column;align-items: center;background-color: white;padding-right: 0.2em;padding-left: 0.2em;position: relative;}#sk-container-id-3 div.sk-item {position: relative;z-index: 1;}#sk-container-id-3 div.sk-parallel {display: flex;align-items: stretch;justify-content: center;background-color: white;position: relative;}#sk-container-id-3 div.sk-item::before, #sk-container-id-3 div.sk-parallel-item::before {content: \"\";position: absolute;border-left: 1px solid gray;box-sizing: border-box;top: 0;bottom: 0;left: 50%;z-index: -1;}#sk-container-id-3 div.sk-parallel-item {display: flex;flex-direction: column;z-index: 1;position: relative;background-color: white;}#sk-container-id-3 div.sk-parallel-item:first-child::after {align-self: flex-end;width: 50%;}#sk-container-id-3 div.sk-parallel-item:last-child::after {align-self: flex-start;width: 50%;}#sk-container-id-3 div.sk-parallel-item:only-child::after {width: 0;}#sk-container-id-3 div.sk-dashed-wrapped {border: 1px dashed gray;margin: 0 0.4em 0.5em 0.4em;box-sizing: border-box;padding-bottom: 0.4em;background-color: white;}#sk-container-id-3 div.sk-label label {font-family: monospace;font-weight: bold;display: inline-block;line-height: 1.2em;}#sk-container-id-3 div.sk-label-container {text-align: center;}#sk-container-id-3 div.sk-container {/* jupyter's `normalize.less` sets `[hidden] { display: none; }` but bootstrap.min.css set `[hidden] { display: none !important; }` so we also need the `!important` here to be able to override the default hidden behavior on the sphinx rendered scikit-learn.org. See: https://github.com/scikit-learn/scikit-learn/issues/21755 */display: inline-block !important;position: relative;}#sk-container-id-3 div.sk-text-repr-fallback {display: none;}</style><div id=\"sk-container-id-3\" class=\"sk-top-container\"><div class=\"sk-text-repr-fallback\"><pre>GridSearchCV(cv=10, estimator=DecisionTreeClassifier(),\n",
       "             param_grid={&#x27;criterion&#x27;: [&#x27;gini&#x27;, &#x27;entropy&#x27;],\n",
       "                         &#x27;max_depth&#x27;: [4, 5, 6, 7, 8, 9, 10, 11, 12, 13, 14],\n",
       "                         &#x27;random_state&#x27;: [42], &#x27;splitter&#x27;: [&#x27;random&#x27;, &#x27;best&#x27;]})</pre><b>In a Jupyter environment, please rerun this cell to show the HTML representation or trust the notebook. <br />On GitHub, the HTML representation is unable to render, please try loading this page with nbviewer.org.</b></div><div class=\"sk-container\" hidden><div class=\"sk-item sk-dashed-wrapped\"><div class=\"sk-label-container\"><div class=\"sk-label sk-toggleable\"><input class=\"sk-toggleable__control sk-hidden--visually\" id=\"sk-estimator-id-7\" type=\"checkbox\" ><label for=\"sk-estimator-id-7\" class=\"sk-toggleable__label sk-toggleable__label-arrow\">GridSearchCV</label><div class=\"sk-toggleable__content\"><pre>GridSearchCV(cv=10, estimator=DecisionTreeClassifier(),\n",
       "             param_grid={&#x27;criterion&#x27;: [&#x27;gini&#x27;, &#x27;entropy&#x27;],\n",
       "                         &#x27;max_depth&#x27;: [4, 5, 6, 7, 8, 9, 10, 11, 12, 13, 14],\n",
       "                         &#x27;random_state&#x27;: [42], &#x27;splitter&#x27;: [&#x27;random&#x27;, &#x27;best&#x27;]})</pre></div></div></div><div class=\"sk-parallel\"><div class=\"sk-parallel-item\"><div class=\"sk-item\"><div class=\"sk-label-container\"><div class=\"sk-label sk-toggleable\"><input class=\"sk-toggleable__control sk-hidden--visually\" id=\"sk-estimator-id-8\" type=\"checkbox\" ><label for=\"sk-estimator-id-8\" class=\"sk-toggleable__label sk-toggleable__label-arrow\">estimator: DecisionTreeClassifier</label><div class=\"sk-toggleable__content\"><pre>DecisionTreeClassifier()</pre></div></div></div><div class=\"sk-serial\"><div class=\"sk-item\"><div class=\"sk-estimator sk-toggleable\"><input class=\"sk-toggleable__control sk-hidden--visually\" id=\"sk-estimator-id-9\" type=\"checkbox\" ><label for=\"sk-estimator-id-9\" class=\"sk-toggleable__label sk-toggleable__label-arrow\">DecisionTreeClassifier</label><div class=\"sk-toggleable__content\"><pre>DecisionTreeClassifier()</pre></div></div></div></div></div></div></div></div></div></div>"
      ],
      "text/plain": [
       "GridSearchCV(cv=10, estimator=DecisionTreeClassifier(),\n",
       "             param_grid={'criterion': ['gini', 'entropy'],\n",
       "                         'max_depth': [4, 5, 6, 7, 8, 9, 10, 11, 12, 13, 14],\n",
       "                         'random_state': [42], 'splitter': ['random', 'best']})"
      ]
     },
     "execution_count": 72,
     "metadata": {},
     "output_type": "execute_result"
    }
   ],
   "source": [
    "dt_clf = GridSearchCV(dt, params,cv=10)\n",
    "dt_clf.fit(x_train,y_train)"
   ]
  },
  {
   "cell_type": "code",
   "execution_count": 34,
   "id": "a7dd8651",
   "metadata": {},
   "outputs": [
    {
     "data": {
      "text/plain": [
       "{'criterion': 'entropy',\n",
       " 'max_depth': 5,\n",
       " 'random_state': 42,\n",
       " 'splitter': 'best'}"
      ]
     },
     "execution_count": 34,
     "metadata": {},
     "output_type": "execute_result"
    }
   ],
   "source": [
    "dt_clf.best_params_"
   ]
  },
  {
   "cell_type": "code",
   "execution_count": 73,
   "id": "e4eb6a4f",
   "metadata": {},
   "outputs": [
    {
     "data": {
      "text/plain": [
       "array([0.49175995, 0.5277656 , 0.50545004, 0.5283288 , 0.51519665,\n",
       "       0.52739739, 0.5039498 , 0.51595344, 0.50469676, 0.5073241 ,\n",
       "       0.49607093, 0.49381671, 0.48725749, 0.48181588, 0.48894358,\n",
       "       0.47524612, 0.47394017, 0.47056201, 0.46755486, 0.46381165,\n",
       "       0.46287321, 0.45424352, 0.49719769, 0.52570181, 0.50657539,\n",
       "       0.53564552, 0.50938719, 0.53339622, 0.50507269, 0.515197  ,\n",
       "       0.49944172, 0.49775632, 0.49813648, 0.48875034, 0.49044171,\n",
       "       0.47355932, 0.48462382, 0.47186936, 0.47505709, 0.46343044,\n",
       "       0.46455439, 0.45424247, 0.45911595, 0.45368102])"
      ]
     },
     "execution_count": 73,
     "metadata": {},
     "output_type": "execute_result"
    }
   ],
   "source": [
    "dt_clf.cv_results_['mean_test_score']"
   ]
  },
  {
   "cell_type": "markdown",
   "id": "aa50374a",
   "metadata": {},
   "source": [
    "### Vary the maximum depth of tree and get accuracy for training and validation set"
   ]
  },
  {
   "cell_type": "code",
   "execution_count": 74,
   "id": "a5da0a6e",
   "metadata": {},
   "outputs": [],
   "source": [
    "max_depth = np.arange(3,31,1)\n",
    "training_accuracy = []\n",
    "validation_accuracy = []\n",
    "\n",
    "for i in max_depth:\n",
    "    dt_clf = DecisionTreeClassifier(criterion='entropy',max_depth=i,splitter='best',random_state=42)\n",
    "    dt_clf.fit(x_train,y_train)\n",
    "    training_accuracy.append(dt_clf.score(x_train,y_train))\n",
    "    validation_accuracy.append(dt_clf.score(x_test,y_test))\n",
    "\n",
    "training_accuracy = np.array(training_accuracy)\n",
    "validation_accuracy = np.array(validation_accuracy)"
   ]
  },
  {
   "cell_type": "code",
   "execution_count": 75,
   "id": "59582e7f",
   "metadata": {
    "scrolled": true
   },
   "outputs": [
    {
     "data": {
      "image/png": "[encoded data removed]",
      "text/plain": [
       "<Figure size 864x576 with 1 Axes>"
      ]
     },
     "metadata": {
      "needs_background": "light"
     },
     "output_type": "display_data"
    }
   ],
   "source": [
    "plt.figure(figsize=(12,8))\n",
    "plt.plot(max_depth, training_accuracy,label = 'Training Accuracy')\n",
    "plt.plot(max_depth, validation_accuracy,label = 'Validation Accuracy')\n",
    "plt.legend(loc = 'center right')\n",
    "plt.yticks(np.arange(0,1,0.1))\n",
    "plt.xlabel(\"Max Depth of Decison Tree\")\n",
    "plt.show()"
   ]
  },
  {
   "cell_type": "markdown",
   "id": "74c5391c",
   "metadata": {},
   "source": [
    "## Confusion Matrix and ROC Curve"
   ]
  },
  {
   "cell_type": "code",
   "execution_count": 38,
   "id": "83b40d09",
   "metadata": {},
   "outputs": [
    {
     "name": "stdout",
     "output_type": "stream",
     "text": [
      "              precision    recall  f1-score   support\n",
      "\n",
      "           0       0.42      0.44      0.43       315\n",
      "           1       0.38      0.29      0.33       302\n",
      "           2       0.59      0.56      0.58       346\n",
      "           3       0.59      0.71      0.64       370\n",
      "\n",
      "    accuracy                           0.51      1333\n",
      "   macro avg       0.50      0.50      0.49      1333\n",
      "weighted avg       0.50      0.51      0.50      1333\n",
      "\n"
     ]
    }
   ],
   "source": [
    "dt_clf = DecisionTreeClassifier(criterion='entropy',max_depth=5,splitter='best',random_state=42)\n",
    "dt_clf.fit(x_train,y_train)\n",
    "\n",
    "y_pred = dt_clf.predict(x_test)\n",
    "\n",
    "print(classification_report(y_test, y_pred))"
   ]
  },
  {
   "cell_type": "code",
   "execution_count": 39,
   "id": "a671f507",
   "metadata": {},
   "outputs": [
    {
     "data": {
      "image/png": "[encoded data removed]",
      "text/plain": [
       "<Figure size 432x288 with 2 Axes>"
      ]
     },
     "metadata": {
      "needs_background": "light"
     },
     "output_type": "display_data"
    }
   ],
   "source": [
    "## TODO : Write code for getting confusion matrix in display format and getting ROC Curve\n",
    "conf_mat = confusion_matrix(y_test, y_pred)\n",
    "\n",
    "# plotting the heatmap\n",
    "hm = sns.heatmap(data=conf_mat,\n",
    "                annot=True)\n",
    "plt.title(\"Confusion Matrix for Decision Tree\")\n",
    "plt.xlabel('Predicted Class')\n",
    "plt.ylabel('Actual Class')\n",
    "plt.show()"
   ]
  },
  {
   "cell_type": "markdown",
   "id": "e85aa0fd",
   "metadata": {},
   "source": [
    "## Random Forests "
   ]
  },
  {
   "cell_type": "code",
   "execution_count": 40,
   "id": "7ede3e16",
   "metadata": {},
   "outputs": [],
   "source": [
    "from sklearn.ensemble import RandomForestClassifier\n",
    "rf = RandomForestClassifier()"
   ]
  },
  {
   "cell_type": "code",
   "execution_count": 41,
   "id": "0beb9a0c",
   "metadata": {},
   "outputs": [],
   "source": [
    "params = {\"n_estimators\":list(range(10,30)), \"max_depth\":[4,5,6,7],'criterion':['entropy','gini'],\n",
    "                                        'max_samples':[0.4,0.5,0.6],'max_features':[3,4,5]}"
   ]
  },
  {
   "cell_type": "code",
   "execution_count": 42,
   "id": "687e3723",
   "metadata": {},
   "outputs": [],
   "source": [
    "rf_clf = GridSearchCV(rf,params,cv=10)"
   ]
  },
  {
   "cell_type": "code",
   "execution_count": 43,
   "id": "a71f8d35",
   "metadata": {},
   "outputs": [
    {
     "data": {
      "text/html": [
       "<style>#sk-container-id-2 {color: black;background-color: white;}#sk-container-id-2 pre{padding: 0;}#sk-container-id-2 div.sk-toggleable {background-color: white;}#sk-container-id-2 label.sk-toggleable__label {cursor: pointer;display: block;width: 100%;margin-bottom: 0;padding: 0.3em;box-sizing: border-box;text-align: center;}#sk-container-id-2 label.sk-toggleable__label-arrow:before {content: \"▸\";float: left;margin-right: 0.25em;color: #696969;}#sk-container-id-2 label.sk-toggleable__label-arrow:hover:before {color: black;}#sk-container-id-2 div.sk-estimator:hover label.sk-toggleable__label-arrow:before {color: black;}#sk-container-id-2 div.sk-toggleable__content {max-height: 0;max-width: 0;overflow: hidden;text-align: left;background-color: #f0f8ff;}#sk-container-id-2 div.sk-toggleable__content pre {margin: 0.2em;color: black;border-radius: 0.25em;background-color: #f0f8ff;}#sk-container-id-2 input.sk-toggleable__control:checked~div.sk-toggleable__content {max-height: 200px;max-width: 100%;overflow: auto;}#sk-container-id-2 input.sk-toggleable__control:checked~label.sk-toggleable__label-arrow:before {content: \"▾\";}#sk-container-id-2 div.sk-estimator input.sk-toggleable__control:checked~label.sk-toggleable__label {background-color: #d4ebff;}#sk-container-id-2 div.sk-label input.sk-toggleable__control:checked~label.sk-toggleable__label {background-color: #d4ebff;}#sk-container-id-2 input.sk-hidden--visually {border: 0;clip: rect(1px 1px 1px 1px);clip: rect(1px, 1px, 1px, 1px);height: 1px;margin: -1px;overflow: hidden;padding: 0;position: absolute;width: 1px;}#sk-container-id-2 div.sk-estimator {font-family: monospace;background-color: #f0f8ff;border: 1px dotted black;border-radius: 0.25em;box-sizing: border-box;margin-bottom: 0.5em;}#sk-container-id-2 div.sk-estimator:hover {background-color: #d4ebff;}#sk-container-id-2 div.sk-parallel-item::after {content: \"\";width: 100%;border-bottom: 1px solid gray;flex-grow: 1;}#sk-container-id-2 div.sk-label:hover label.sk-toggleable__label {background-color: #d4ebff;}#sk-container-id-2 div.sk-serial::before {content: \"\";position: absolute;border-left: 1px solid gray;box-sizing: border-box;top: 0;bottom: 0;left: 50%;z-index: 0;}#sk-container-id-2 div.sk-serial {display: flex;flex-direction: column;align-items: center;background-color: white;padding-right: 0.2em;padding-left: 0.2em;position: relative;}#sk-container-id-2 div.sk-item {position: relative;z-index: 1;}#sk-container-id-2 div.sk-parallel {display: flex;align-items: stretch;justify-content: center;background-color: white;position: relative;}#sk-container-id-2 div.sk-item::before, #sk-container-id-2 div.sk-parallel-item::before {content: \"\";position: absolute;border-left: 1px solid gray;box-sizing: border-box;top: 0;bottom: 0;left: 50%;z-index: -1;}#sk-container-id-2 div.sk-parallel-item {display: flex;flex-direction: column;z-index: 1;position: relative;background-color: white;}#sk-container-id-2 div.sk-parallel-item:first-child::after {align-self: flex-end;width: 50%;}#sk-container-id-2 div.sk-parallel-item:last-child::after {align-self: flex-start;width: 50%;}#sk-container-id-2 div.sk-parallel-item:only-child::after {width: 0;}#sk-container-id-2 div.sk-dashed-wrapped {border: 1px dashed gray;margin: 0 0.4em 0.5em 0.4em;box-sizing: border-box;padding-bottom: 0.4em;background-color: white;}#sk-container-id-2 div.sk-label label {font-family: monospace;font-weight: bold;display: inline-block;line-height: 1.2em;}#sk-container-id-2 div.sk-label-container {text-align: center;}#sk-container-id-2 div.sk-container {/* jupyter's `normalize.less` sets `[hidden] { display: none; }` but bootstrap.min.css set `[hidden] { display: none !important; }` so we also need the `!important` here to be able to override the default hidden behavior on the sphinx rendered scikit-learn.org. See: https://github.com/scikit-learn/scikit-learn/issues/21755 */display: inline-block !important;position: relative;}#sk-container-id-2 div.sk-text-repr-fallback {display: none;}</style><div id=\"sk-container-id-2\" class=\"sk-top-container\"><div class=\"sk-text-repr-fallback\"><pre>GridSearchCV(cv=10, estimator=RandomForestClassifier(),\n",
       "             param_grid={&#x27;criterion&#x27;: [&#x27;entropy&#x27;, &#x27;gini&#x27;],\n",
       "                         &#x27;max_depth&#x27;: [4, 5, 6, 7], &#x27;max_features&#x27;: [3, 4, 5],\n",
       "                         &#x27;max_samples&#x27;: [0.4, 0.5, 0.6],\n",
       "                         &#x27;n_estimators&#x27;: [10, 11, 12, 13, 14, 15, 16, 17, 18,\n",
       "                                          19, 20, 21, 22, 23, 24, 25, 26, 27,\n",
       "                                          28, 29]})</pre><b>In a Jupyter environment, please rerun this cell to show the HTML representation or trust the notebook. <br />On GitHub, the HTML representation is unable to render, please try loading this page with nbviewer.org.</b></div><div class=\"sk-container\" hidden><div class=\"sk-item sk-dashed-wrapped\"><div class=\"sk-label-container\"><div class=\"sk-label sk-toggleable\"><input class=\"sk-toggleable__control sk-hidden--visually\" id=\"sk-estimator-id-4\" type=\"checkbox\" ><label for=\"sk-estimator-id-4\" class=\"sk-toggleable__label sk-toggleable__label-arrow\">GridSearchCV</label><div class=\"sk-toggleable__content\"><pre>GridSearchCV(cv=10, estimator=RandomForestClassifier(),\n",
       "             param_grid={&#x27;criterion&#x27;: [&#x27;entropy&#x27;, &#x27;gini&#x27;],\n",
       "                         &#x27;max_depth&#x27;: [4, 5, 6, 7], &#x27;max_features&#x27;: [3, 4, 5],\n",
       "                         &#x27;max_samples&#x27;: [0.4, 0.5, 0.6],\n",
       "                         &#x27;n_estimators&#x27;: [10, 11, 12, 13, 14, 15, 16, 17, 18,\n",
       "                                          19, 20, 21, 22, 23, 24, 25, 26, 27,\n",
       "                                          28, 29]})</pre></div></div></div><div class=\"sk-parallel\"><div class=\"sk-parallel-item\"><div class=\"sk-item\"><div class=\"sk-label-container\"><div class=\"sk-label sk-toggleable\"><input class=\"sk-toggleable__control sk-hidden--visually\" id=\"sk-estimator-id-5\" type=\"checkbox\" ><label for=\"sk-estimator-id-5\" class=\"sk-toggleable__label sk-toggleable__label-arrow\">estimator: RandomForestClassifier</label><div class=\"sk-toggleable__content\"><pre>RandomForestClassifier()</pre></div></div></div><div class=\"sk-serial\"><div class=\"sk-item\"><div class=\"sk-estimator sk-toggleable\"><input class=\"sk-toggleable__control sk-hidden--visually\" id=\"sk-estimator-id-6\" type=\"checkbox\" ><label for=\"sk-estimator-id-6\" class=\"sk-toggleable__label sk-toggleable__label-arrow\">RandomForestClassifier</label><div class=\"sk-toggleable__content\"><pre>RandomForestClassifier()</pre></div></div></div></div></div></div></div></div></div></div>"
      ],
      "text/plain": [
       "GridSearchCV(cv=10, estimator=RandomForestClassifier(),\n",
       "             param_grid={'criterion': ['entropy', 'gini'],\n",
       "                         'max_depth': [4, 5, 6, 7], 'max_features': [3, 4, 5],\n",
       "                         'max_samples': [0.4, 0.5, 0.6],\n",
       "                         'n_estimators': [10, 11, 12, 13, 14, 15, 16, 17, 18,\n",
       "                                          19, 20, 21, 22, 23, 24, 25, 26, 27,\n",
       "                                          28, 29]})"
      ]
     },
     "execution_count": 43,
     "metadata": {},
     "output_type": "execute_result"
    }
   ],
   "source": [
    "rf_clf.fit(x_test,y_test)"
   ]
  },
  {
   "cell_type": "code",
   "execution_count": 44,
   "id": "84eeec92",
   "metadata": {},
   "outputs": [
    {
     "name": "stdout",
     "output_type": "stream",
     "text": [
      "[0.50181798 0.50557738 0.51232185 ... 0.51006621 0.51979576 0.51231063]\n",
      "{'criterion': 'entropy', 'max_depth': 5, 'max_features': 4, 'max_samples': 0.5, 'n_estimators': 23}\n"
     ]
    }
   ],
   "source": [
    "print(rf_clf.cv_results_['mean_test_score'])\n",
    "print(rf_clf.best_params_)"
   ]
  },
  {
   "cell_type": "code",
   "execution_count": 45,
   "id": "8e7e0720",
   "metadata": {},
   "outputs": [
    {
     "name": "stdout",
     "output_type": "stream",
     "text": [
      "0.5168792198049512\n",
      "0.5888972243060765\n"
     ]
    }
   ],
   "source": [
    "print(rf_clf.score(x_train,y_train))\n",
    "print(rf_clf.score(x_test,y_test))"
   ]
  },
  {
   "cell_type": "markdown",
   "id": "7bfea1c1",
   "metadata": {},
   "source": [
    "### Vary the number of estimators and get accuracy for training and validation set"
   ]
  },
  {
   "cell_type": "code",
   "execution_count": 48,
   "id": "2452d3bb",
   "metadata": {},
   "outputs": [],
   "source": [
    "num_trees = np.arange(10,30,1)\n",
    "training_accuracy = []\n",
    "validation_accuracy = []\n",
    "\n",
    "for i in num_trees:\n",
    "    rf2_clf = RandomForestClassifier(n_estimators=i,criterion='entropy',max_depth=5,random_state=42,\n",
    "                                    max_features=4,max_samples=0.5)\n",
    "    rf2_clf.fit(x_train,y_train)\n",
    "    training_accuracy.append(rf2_clf.score(x_train,y_train))\n",
    "    validation_accuracy.append(rf2_clf.score(x_test,y_test))\n",
    "\n",
    "training_accuracy = np.array(training_accuracy)\n",
    "validation_accuracy = np.array(validation_accuracy)"
   ]
  },
  {
   "cell_type": "code",
   "execution_count": 49,
   "id": "041a445d",
   "metadata": {},
   "outputs": [
    {
     "data": {
      "text/plain": [
       "array([0.54707427, 0.5420105 , 0.54426107, 0.54332333, 0.5420105 ,\n",
       "       0.54257314, 0.54182296, 0.5423856 , 0.54369842, 0.54444861,\n",
       "       0.54294824, 0.54069767, 0.54088522, 0.54088522, 0.5451988 ,\n",
       "       0.54351088, 0.54613653, 0.54688672, 0.54576144, 0.54894974])"
      ]
     },
     "execution_count": 49,
     "metadata": {},
     "output_type": "execute_result"
    }
   ],
   "source": [
    "tra"
   ]
  },
  {
   "cell_type": "code",
   "execution_count": 51,
   "id": "bad11aaa",
   "metadata": {},
   "outputs": [
    {
     "data": {
      "image/png": "[encoded data removed]",
      "text/plain": [
       "<Figure size 864x576 with 1 Axes>"
      ]
     },
     "metadata": {
      "needs_background": "light"
     },
     "output_type": "display_data"
    }
   ],
   "source": [
    "plt.figure(figsize=(12,8))\n",
    "plt.plot(num_trees, training_accuracy,label = 'Training Accuracy')\n",
    "plt.plot(num_trees, validation_accuracy,label = 'Validation Accuracy')\n",
    "plt.legend(loc = 'center right')\n",
    "plt.yticks(np.arange(0,1,0.1))\n",
    "plt.xlabel(\"Number of Trees in Random Forest\")\n",
    "plt.show()"
   ]
  },
  {
   "cell_type": "markdown",
   "id": "0a526993",
   "metadata": {},
   "source": [
    "## Confusion Matrix and ROC Curve"
   ]
  },
  {
   "cell_type": "code",
   "execution_count": 52,
   "id": "e6c34387",
   "metadata": {},
   "outputs": [
    {
     "name": "stdout",
     "output_type": "stream",
     "text": [
      "              precision    recall  f1-score   support\n",
      "\n",
      "           0       0.54      0.47      0.50       315\n",
      "           1       0.50      0.44      0.47       302\n",
      "           2       0.61      0.63      0.62       346\n",
      "           3       0.66      0.78      0.71       370\n",
      "\n",
      "    accuracy                           0.59      1333\n",
      "   macro avg       0.58      0.58      0.57      1333\n",
      "weighted avg       0.58      0.59      0.58      1333\n",
      "\n"
     ]
    }
   ],
   "source": [
    "y_pred = rf_clf.predict(x_test)\n",
    "\n",
    "print(classification_report(y_test, y_pred))"
   ]
  },
  {
   "cell_type": "code",
   "execution_count": 53,
   "id": "d5121e2f",
   "metadata": {
    "scrolled": true
   },
   "outputs": [
    {
     "data": {
      "image/png": "[encoded data removed]",
      "text/plain": [
       "<Figure size 432x288 with 2 Axes>"
      ]
     },
     "metadata": {
      "needs_background": "light"
     },
     "output_type": "display_data"
    }
   ],
   "source": [
    "conf_mat = confusion_matrix(y_test, y_pred)\n",
    "\n",
    "# plotting the heatmap\n",
    "hm = sns.heatmap(data=conf_mat,\n",
    "                annot=True,)\n",
    "plt.title('Confusion Matrix for Random Forest')\n",
    "plt.xlabel('Predicted Class')\n",
    "plt.ylabel('Actual Class')\n",
    "plt.show()"
   ]
  },
  {
   "cell_type": "markdown",
   "id": "751fbf68",
   "metadata": {},
   "source": [
    "## KNN"
   ]
  },
  {
   "cell_type": "code",
   "execution_count": 54,
   "id": "efb89fe8",
   "metadata": {},
   "outputs": [],
   "source": [
    "#Modify data_train and data_test\n",
    "from sklearn.preprocessing import MinMaxScaler\n",
    "columnsToChange = ['Age','Profession','Profession','Work_Experience','Spending_Score','Family_Size','Var_1']\n",
    "\n",
    "svm_train = data_train.copy()\n",
    "\n",
    "scaler = MinMaxScaler()\n",
    "scaler.fit(svm_train[columnsToChange]) \n",
    "svm_train[columnsToChange]= scaler.transform(svm_train[columnsToChange])"
   ]
  },
  {
   "cell_type": "code",
   "execution_count": 55,
   "id": "ab7701cf",
   "metadata": {},
   "outputs": [],
   "source": [
    "X = svm_train.copy().drop(columns=['Segmentation']).values\n",
    "Y = svm_train.copy()['Segmentation'].values\n",
    "Y=LabelEncoder().fit_transform(Y)\n",
    "x_train,x_test,y_train,y_test = train_test_split(X,Y,test_size=0.2,random_state=42)"
   ]
  },
  {
   "cell_type": "code",
   "execution_count": 57,
   "id": "b2f75eec",
   "metadata": {},
   "outputs": [],
   "source": [
    "from sklearn.neighbors import KNeighborsClassifier\n",
    "neigh = KNeighborsClassifier()\n",
    "neighbors = np.arange(5,51,5)\n",
    "params = {'n_neighbors':neighbors,'weights':['uniform','distance']}\n",
    "\n",
    "knn_clf = GridSearchCV(neigh,params,cv=10)"
   ]
  },
  {
   "cell_type": "code",
   "execution_count": 59,
   "id": "0293505d",
   "metadata": {},
   "outputs": [
    {
     "name": "stdout",
     "output_type": "stream",
     "text": [
      "{'n_neighbors': 45, 'weights': 'uniform'}\n",
      "0.5376969242310577\n",
      "0.5093773443360841\n"
     ]
    }
   ],
   "source": [
    "knn_clf.fit(x_train,y_train)\n",
    "print(knn_clf.best_params_)\n",
    "print(knn_clf.score(x_train,y_train))\n",
    "print(knn_clf.score(x_test,y_test))"
   ]
  },
  {
   "cell_type": "code",
   "execution_count": 63,
   "id": "e9a17a36",
   "metadata": {},
   "outputs": [
    {
     "data": {
      "image/png": "[encoded data removed]",
      "text/plain": [
       "<Figure size 864x576 with 1 Axes>"
      ]
     },
     "metadata": {
      "needs_background": "light"
     },
     "output_type": "display_data"
    }
   ],
   "source": [
    "num_values = np.arange(5,60,5)\n",
    "training_accuracy = []\n",
    "validation_accuracy = []\n",
    "\n",
    "for i in num_values:\n",
    "    knn_clf2 = KNeighborsClassifier(n_neighbors=i,weights='uniform')\n",
    "    knn_clf2.fit(x_train,y_train)\n",
    "    training_accuracy.append(knn_clf2.score(x_train,y_train))\n",
    "    validation_accuracy.append(knn_clf2.score(x_test,y_test))\n",
    "\n",
    "training_accuracy = np.array(training_accuracy)\n",
    "validation_accuracy = np.array(validation_accuracy)\n",
    "\n",
    "plt.figure(figsize=(12,8))\n",
    "plt.plot(num_values, training_accuracy,label = 'Training Accuracy')\n",
    "plt.plot(num_values, validation_accuracy,label = 'Validation Accuracy')\n",
    "plt.legend(loc = 'center right')\n",
    "plt.yticks(np.arange(0,1,0.1))\n",
    "plt.xlabel(\"Number of Neighbors\")\n",
    "plt.show()"
   ]
  },
  {
   "cell_type": "code",
   "execution_count": 64,
   "id": "8230b6c0",
   "metadata": {},
   "outputs": [
    {
     "name": "stdout",
     "output_type": "stream",
     "text": [
      "              precision    recall  f1-score   support\n",
      "\n",
      "           0       0.42      0.47      0.45       315\n",
      "           1       0.37      0.30      0.33       302\n",
      "           2       0.56      0.58      0.57       346\n",
      "           3       0.64      0.65      0.65       370\n",
      "\n",
      "    accuracy                           0.51      1333\n",
      "   macro avg       0.50      0.50      0.50      1333\n",
      "weighted avg       0.50      0.51      0.51      1333\n",
      "\n"
     ]
    }
   ],
   "source": [
    "y_pred = knn_clf.predict(x_test)\n",
    "\n",
    "print(classification_report(y_test, y_pred))"
   ]
  },
  {
   "cell_type": "code",
   "execution_count": 66,
   "id": "40d55639",
   "metadata": {},
   "outputs": [
    {
     "data": {
      "image/png": "[encoded data removed]",
      "text/plain": [
       "<Figure size 432x288 with 2 Axes>"
      ]
     },
     "metadata": {
      "needs_background": "light"
     },
     "output_type": "display_data"
    }
   ],
   "source": [
    "conf_mat = confusion_matrix(y_test, y_pred)\n",
    "\n",
    "# plotting the heatmap\n",
    "hm = sns.heatmap(data=conf_mat,\n",
    "                annot=True,)\n",
    "plt.title('Confusion Matrix for KNN')\n",
    "plt.xlabel('Predicted Class')\n",
    "plt.ylabel('Actual Class')\n",
    "plt.show()"
   ]
  },
  {
   "cell_type": "code",
   "execution_count": null,
   "id": "91961315",
   "metadata": {},
   "outputs": [],
   "source": []
  }
 ],
 "metadata": {
  "kernelspec": {
   "display_name": "Python 3 (ipykernel)",
   "language": "python",
   "name": "python3"
  },
  "language_info": {
   "codemirror_mode": {
    "name": "ipython",
    "version": 3
   },
   "file_extension": ".py",
   "mimetype": "text/x-python",
   "name": "python",
   "nbconvert_exporter": "python",
   "pygments_lexer": "ipython3",
   "version": "3.10.4"
  }
 },
 "nbformat": 4,
 "nbformat_minor": 5
}
