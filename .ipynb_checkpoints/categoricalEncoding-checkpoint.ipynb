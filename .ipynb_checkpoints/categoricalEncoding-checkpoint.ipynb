{
 "cells": [
  {
   "cell_type": "code",
   "execution_count": 28,
   "id": "0ea1e31d",
   "metadata": {},
   "outputs": [],
   "source": [
    "import pandas as pd\n",
    "import matplotlib.pyplot as plt\n",
    "import numpy as np\n",
    "import seaborn as sns\n",
    "import warnings\n",
    "warnings.filterwarnings(\"ignore\")"
   ]
  },
  {
   "cell_type": "code",
   "execution_count": 29,
   "id": "553b3e77",
   "metadata": {},
   "outputs": [],
   "source": [
    "#Load Datasets \n",
    "data_train = pd.read_csv('train.csv').drop(columns=['ID'])\n",
    "data_test = pd.read_csv('test.csv')"
   ]
  },
  {
   "cell_type": "code",
   "execution_count": 30,
   "id": "b2bf9a27",
   "metadata": {},
   "outputs": [
    {
     "data": {
      "text/plain": [
       "140"
      ]
     },
     "execution_count": 30,
     "metadata": {},
     "output_type": "execute_result"
    }
   ],
   "source": [
    "data_train['Ever_Married'].isna().sum()"
   ]
  },
  {
   "cell_type": "code",
   "execution_count": 31,
   "id": "a8354e77",
   "metadata": {},
   "outputs": [
    {
     "name": "stdout",
     "output_type": "stream",
     "text": [
      "Gender Unique Values : 2\n",
      "Gender NaN Values : 0\n",
      "Gender Mode: Male\n",
      "Ever_Married Unique Values : 3\n",
      "Ever_Married NaN Values : 140\n",
      "Ever_Married Mode: Yes\n",
      "Age Unique Values : 67\n",
      "Age NaN Values : 0\n",
      "Age Mean: 43.46690629647992\n",
      "Graduated Unique Values : 3\n",
      "Graduated NaN Values : 78\n",
      "Graduated Mode: Yes\n",
      "Profession Unique Values : 10\n",
      "Profession NaN Values : 124\n",
      "Profession Mode: Artist\n",
      "Work_Experience Unique Values : 16\n",
      "Work_Experience NaN Values : 829\n",
      "Work_Experience Mode: 1.0\n",
      "Spending_Score Unique Values : 3\n",
      "Spending_Score NaN Values : 0\n",
      "Spending_Score Mode: Low\n",
      "Family_Size Unique Values : 10\n",
      "Family_Size NaN Values : 335\n",
      "Family_Size Mode: 2.0\n",
      "Var_1 Unique Values : 8\n",
      "Var_1 NaN Values : 76\n",
      "Var_1 Mode: Cat_6\n",
      "Segmentation Unique Values : 4\n",
      "Segmentation NaN Values : 0\n",
      "Segmentation Mode: D\n"
     ]
    }
   ],
   "source": [
    "trainingData = []\n",
    "\n",
    "for i in data_train.columns:\n",
    "    \n",
    "    print(f'{i} Unique Values :',len(data_train[i].unique()))\n",
    "    print(f'{i} NaN Values :',data_train[i].isna().sum())\n",
    "    \n",
    "    trainingData.append(i)\n",
    "    trainingData.append(len(data_train[i].unique()))\n",
    "    trainingData.append(data_train[i].isna().sum())\n",
    "    \n",
    "    if data_train[i].dtype==\"int64\":\n",
    "        print(f'{i} Mean:',data_train[i].mean())\n",
    "        trainingData.append(data_train[i].mean())\n",
    "    else:\n",
    "        print(f'{i} Mode:',data_train[i].mode().values[0])\n",
    "        trainingData.append(data_train[i].mode().values[0])\n",
    "\n",
    "training_data_result = pd.DataFrame(np.array(trainingData).reshape(len(data_train.columns),4),\n",
    "                                    columns =['Feature','Unique Values','Nan Values','Mode'])"
   ]
  },
  {
   "cell_type": "code",
   "execution_count": 32,
   "id": "deebe8a7",
   "metadata": {},
   "outputs": [
    {
     "name": "stdout",
     "output_type": "stream",
     "text": [
      "<class 'pandas.core.frame.DataFrame'>\n",
      "RangeIndex: 8068 entries, 0 to 8067\n",
      "Data columns (total 10 columns):\n",
      " #   Column           Non-Null Count  Dtype  \n",
      "---  ------           --------------  -----  \n",
      " 0   Gender           8068 non-null   object \n",
      " 1   Ever_Married     7928 non-null   object \n",
      " 2   Age              8068 non-null   int64  \n",
      " 3   Graduated        7990 non-null   object \n",
      " 4   Profession       7944 non-null   object \n",
      " 5   Work_Experience  7239 non-null   float64\n",
      " 6   Spending_Score   8068 non-null   object \n",
      " 7   Family_Size      7733 non-null   float64\n",
      " 8   Var_1            7992 non-null   object \n",
      " 9   Segmentation     8068 non-null   object \n",
      "dtypes: float64(2), int64(1), object(7)\n",
      "memory usage: 630.4+ KB\n"
     ]
    }
   ],
   "source": [
    "data_train.info()"
   ]
  },
  {
   "cell_type": "code",
   "execution_count": 33,
   "id": "46071e48",
   "metadata": {},
   "outputs": [
    {
     "data": {
      "text/html": [
       "<div>\n",
       "<style scoped>\n",
       "    .dataframe tbody tr th:only-of-type {\n",
       "        vertical-align: middle;\n",
       "    }\n",
       "\n",
       "    .dataframe tbody tr th {\n",
       "        vertical-align: top;\n",
       "    }\n",
       "\n",
       "    .dataframe thead th {\n",
       "        text-align: right;\n",
       "    }\n",
       "</style>\n",
       "<table border=\"1\" class=\"dataframe\">\n",
       "  <thead>\n",
       "    <tr style=\"text-align: right;\">\n",
       "      <th></th>\n",
       "      <th>Age</th>\n",
       "      <th>Work_Experience</th>\n",
       "      <th>Family_Size</th>\n",
       "    </tr>\n",
       "  </thead>\n",
       "  <tbody>\n",
       "    <tr>\n",
       "      <th>count</th>\n",
       "      <td>8068.000000</td>\n",
       "      <td>7239.000000</td>\n",
       "      <td>7733.000000</td>\n",
       "    </tr>\n",
       "    <tr>\n",
       "      <th>mean</th>\n",
       "      <td>43.466906</td>\n",
       "      <td>2.641663</td>\n",
       "      <td>2.850123</td>\n",
       "    </tr>\n",
       "    <tr>\n",
       "      <th>std</th>\n",
       "      <td>16.711696</td>\n",
       "      <td>3.406763</td>\n",
       "      <td>1.531413</td>\n",
       "    </tr>\n",
       "    <tr>\n",
       "      <th>min</th>\n",
       "      <td>18.000000</td>\n",
       "      <td>0.000000</td>\n",
       "      <td>1.000000</td>\n",
       "    </tr>\n",
       "    <tr>\n",
       "      <th>25%</th>\n",
       "      <td>30.000000</td>\n",
       "      <td>0.000000</td>\n",
       "      <td>2.000000</td>\n",
       "    </tr>\n",
       "    <tr>\n",
       "      <th>50%</th>\n",
       "      <td>40.000000</td>\n",
       "      <td>1.000000</td>\n",
       "      <td>3.000000</td>\n",
       "    </tr>\n",
       "    <tr>\n",
       "      <th>75%</th>\n",
       "      <td>53.000000</td>\n",
       "      <td>4.000000</td>\n",
       "      <td>4.000000</td>\n",
       "    </tr>\n",
       "    <tr>\n",
       "      <th>max</th>\n",
       "      <td>89.000000</td>\n",
       "      <td>14.000000</td>\n",
       "      <td>9.000000</td>\n",
       "    </tr>\n",
       "  </tbody>\n",
       "</table>\n",
       "</div>"
      ],
      "text/plain": [
       "               Age  Work_Experience  Family_Size\n",
       "count  8068.000000      7239.000000  7733.000000\n",
       "mean     43.466906         2.641663     2.850123\n",
       "std      16.711696         3.406763     1.531413\n",
       "min      18.000000         0.000000     1.000000\n",
       "25%      30.000000         0.000000     2.000000\n",
       "50%      40.000000         1.000000     3.000000\n",
       "75%      53.000000         4.000000     4.000000\n",
       "max      89.000000        14.000000     9.000000"
      ]
     },
     "execution_count": 33,
     "metadata": {},
     "output_type": "execute_result"
    }
   ],
   "source": [
    "data_train.describe()"
   ]
  },
  {
   "cell_type": "code",
   "execution_count": 34,
   "id": "f84b4d02",
   "metadata": {},
   "outputs": [
    {
     "name": "stdout",
     "output_type": "stream",
     "text": [
      "ID Unique Values : 2627\n",
      "ID NaN Values : 0\n",
      "ID Mean: 463433.91891891893\n",
      "Gender Unique Values : 2\n",
      "Gender NaN Values : 0\n",
      "Gender Mode: Male\n",
      "Ever_Married Unique Values : 3\n",
      "Ever_Married NaN Values : 50\n",
      "Ever_Married Mode: Yes\n",
      "Age Unique Values : 67\n",
      "Age NaN Values : 0\n",
      "Age Mean: 43.649790635706125\n",
      "Graduated Unique Values : 3\n",
      "Graduated NaN Values : 24\n",
      "Graduated Mode: Yes\n",
      "Profession Unique Values : 10\n",
      "Profession NaN Values : 38\n",
      "Profession Mode: Artist\n",
      "Work_Experience Unique Values : 16\n",
      "Work_Experience NaN Values : 269\n",
      "Work_Experience Mode: 1.0\n",
      "Spending_Score Unique Values : 3\n",
      "Spending_Score NaN Values : 0\n",
      "Spending_Score Mode: Low\n",
      "Family_Size Unique Values : 10\n",
      "Family_Size NaN Values : 113\n",
      "Family_Size Mode: 2.0\n",
      "Var_1 Unique Values : 8\n",
      "Var_1 NaN Values : 32\n",
      "Var_1 Mode: Cat_6\n"
     ]
    }
   ],
   "source": [
    "testData = []\n",
    "\n",
    "for i in data_test.columns:\n",
    "    \n",
    "    print(f'{i} Unique Values :',len(data_test[i].unique()))\n",
    "    print(f'{i} NaN Values :',data_test[i].isna().sum())\n",
    "    \n",
    "    testData.append(i)\n",
    "    testData.append(len(data_test[i].unique()))\n",
    "    testData.append(data_test[i].isna().sum())\n",
    "    \n",
    "    if data_test[i].dtype==\"int64\":\n",
    "        print(f'{i} Mean:',data_test[i].mean())\n",
    "        testData.append(data_test[i].mean())\n",
    "    else:\n",
    "        print(f'{i} Mode:',data_test[i].mode().values[0])\n",
    "        testData.append(data_test[i].mode().values[0])\n",
    "\n",
    "test_data_result = pd.DataFrame(np.array(testData).reshape(len(data_test.columns),4),\n",
    "                                    columns =['Feature','Unique Values','Nan Values','Mode'])"
   ]
  },
  {
   "cell_type": "code",
   "execution_count": 35,
   "id": "d112b3e8",
   "metadata": {},
   "outputs": [
    {
     "name": "stdout",
     "output_type": "stream",
     "text": [
      "<class 'pandas.core.frame.DataFrame'>\n",
      "RangeIndex: 2627 entries, 0 to 2626\n",
      "Data columns (total 10 columns):\n",
      " #   Column           Non-Null Count  Dtype  \n",
      "---  ------           --------------  -----  \n",
      " 0   ID               2627 non-null   int64  \n",
      " 1   Gender           2627 non-null   object \n",
      " 2   Ever_Married     2577 non-null   object \n",
      " 3   Age              2627 non-null   int64  \n",
      " 4   Graduated        2603 non-null   object \n",
      " 5   Profession       2589 non-null   object \n",
      " 6   Work_Experience  2358 non-null   float64\n",
      " 7   Spending_Score   2627 non-null   object \n",
      " 8   Family_Size      2514 non-null   float64\n",
      " 9   Var_1            2595 non-null   object \n",
      "dtypes: float64(2), int64(2), object(6)\n",
      "memory usage: 205.4+ KB\n"
     ]
    }
   ],
   "source": [
    "data_test.info()"
   ]
  },
  {
   "cell_type": "code",
   "execution_count": 36,
   "id": "c11a569f",
   "metadata": {},
   "outputs": [
    {
     "data": {
      "text/html": [
       "<div>\n",
       "<style scoped>\n",
       "    .dataframe tbody tr th:only-of-type {\n",
       "        vertical-align: middle;\n",
       "    }\n",
       "\n",
       "    .dataframe tbody tr th {\n",
       "        vertical-align: top;\n",
       "    }\n",
       "\n",
       "    .dataframe thead th {\n",
       "        text-align: right;\n",
       "    }\n",
       "</style>\n",
       "<table border=\"1\" class=\"dataframe\">\n",
       "  <thead>\n",
       "    <tr style=\"text-align: right;\">\n",
       "      <th></th>\n",
       "      <th>count</th>\n",
       "      <th>mean</th>\n",
       "      <th>std</th>\n",
       "      <th>min</th>\n",
       "      <th>25%</th>\n",
       "      <th>50%</th>\n",
       "      <th>75%</th>\n",
       "      <th>max</th>\n",
       "    </tr>\n",
       "  </thead>\n",
       "  <tbody>\n",
       "    <tr>\n",
       "      <th>ID</th>\n",
       "      <td>2627.0</td>\n",
       "      <td>463433.918919</td>\n",
       "      <td>2618.245698</td>\n",
       "      <td>458989.0</td>\n",
       "      <td>461162.5</td>\n",
       "      <td>463379.0</td>\n",
       "      <td>465696.0</td>\n",
       "      <td>467968.0</td>\n",
       "    </tr>\n",
       "    <tr>\n",
       "      <th>Age</th>\n",
       "      <td>2627.0</td>\n",
       "      <td>43.649791</td>\n",
       "      <td>16.967015</td>\n",
       "      <td>18.0</td>\n",
       "      <td>30.0</td>\n",
       "      <td>41.0</td>\n",
       "      <td>53.0</td>\n",
       "      <td>89.0</td>\n",
       "    </tr>\n",
       "    <tr>\n",
       "      <th>Work_Experience</th>\n",
       "      <td>2358.0</td>\n",
       "      <td>2.552587</td>\n",
       "      <td>3.341094</td>\n",
       "      <td>0.0</td>\n",
       "      <td>0.0</td>\n",
       "      <td>1.0</td>\n",
       "      <td>4.0</td>\n",
       "      <td>14.0</td>\n",
       "    </tr>\n",
       "    <tr>\n",
       "      <th>Family_Size</th>\n",
       "      <td>2514.0</td>\n",
       "      <td>2.825378</td>\n",
       "      <td>1.551906</td>\n",
       "      <td>1.0</td>\n",
       "      <td>2.0</td>\n",
       "      <td>2.0</td>\n",
       "      <td>4.0</td>\n",
       "      <td>9.0</td>\n",
       "    </tr>\n",
       "  </tbody>\n",
       "</table>\n",
       "</div>"
      ],
      "text/plain": [
       "                  count           mean          std       min       25%  \\\n",
       "ID               2627.0  463433.918919  2618.245698  458989.0  461162.5   \n",
       "Age              2627.0      43.649791    16.967015      18.0      30.0   \n",
       "Work_Experience  2358.0       2.552587     3.341094       0.0       0.0   \n",
       "Family_Size      2514.0       2.825378     1.551906       1.0       2.0   \n",
       "\n",
       "                      50%       75%       max  \n",
       "ID               463379.0  465696.0  467968.0  \n",
       "Age                  41.0      53.0      89.0  \n",
       "Work_Experience       1.0       4.0      14.0  \n",
       "Family_Size           2.0       4.0       9.0  "
      ]
     },
     "execution_count": 36,
     "metadata": {},
     "output_type": "execute_result"
    }
   ],
   "source": [
    "data_test.describe().T"
   ]
  },
  {
   "cell_type": "code",
   "execution_count": 37,
   "id": "f8004a3a",
   "metadata": {},
   "outputs": [
    {
     "data": {
      "text/html": [
       "<div>\n",
       "<style scoped>\n",
       "    .dataframe tbody tr th:only-of-type {\n",
       "        vertical-align: middle;\n",
       "    }\n",
       "\n",
       "    .dataframe tbody tr th {\n",
       "        vertical-align: top;\n",
       "    }\n",
       "\n",
       "    .dataframe thead th {\n",
       "        text-align: right;\n",
       "    }\n",
       "</style>\n",
       "<table border=\"1\" class=\"dataframe\">\n",
       "  <thead>\n",
       "    <tr style=\"text-align: right;\">\n",
       "      <th></th>\n",
       "      <th>Feature</th>\n",
       "      <th>Unique Values</th>\n",
       "      <th>Nan Values</th>\n",
       "      <th>Mode</th>\n",
       "      <th>Feature</th>\n",
       "      <th>Unique Values</th>\n",
       "      <th>Nan Values</th>\n",
       "      <th>Mode</th>\n",
       "    </tr>\n",
       "  </thead>\n",
       "  <tbody>\n",
       "    <tr>\n",
       "      <th>0</th>\n",
       "      <td>Gender</td>\n",
       "      <td>2</td>\n",
       "      <td>0</td>\n",
       "      <td>Male</td>\n",
       "      <td>ID</td>\n",
       "      <td>2627</td>\n",
       "      <td>0</td>\n",
       "      <td>463433.91891891893</td>\n",
       "    </tr>\n",
       "    <tr>\n",
       "      <th>1</th>\n",
       "      <td>Ever_Married</td>\n",
       "      <td>3</td>\n",
       "      <td>140</td>\n",
       "      <td>Yes</td>\n",
       "      <td>Gender</td>\n",
       "      <td>2</td>\n",
       "      <td>0</td>\n",
       "      <td>Male</td>\n",
       "    </tr>\n",
       "    <tr>\n",
       "      <th>2</th>\n",
       "      <td>Age</td>\n",
       "      <td>67</td>\n",
       "      <td>0</td>\n",
       "      <td>43.46690629647992</td>\n",
       "      <td>Ever_Married</td>\n",
       "      <td>3</td>\n",
       "      <td>50</td>\n",
       "      <td>Yes</td>\n",
       "    </tr>\n",
       "    <tr>\n",
       "      <th>3</th>\n",
       "      <td>Graduated</td>\n",
       "      <td>3</td>\n",
       "      <td>78</td>\n",
       "      <td>Yes</td>\n",
       "      <td>Age</td>\n",
       "      <td>67</td>\n",
       "      <td>0</td>\n",
       "      <td>43.649790635706125</td>\n",
       "    </tr>\n",
       "    <tr>\n",
       "      <th>4</th>\n",
       "      <td>Profession</td>\n",
       "      <td>10</td>\n",
       "      <td>124</td>\n",
       "      <td>Artist</td>\n",
       "      <td>Graduated</td>\n",
       "      <td>3</td>\n",
       "      <td>24</td>\n",
       "      <td>Yes</td>\n",
       "    </tr>\n",
       "    <tr>\n",
       "      <th>5</th>\n",
       "      <td>Work_Experience</td>\n",
       "      <td>16</td>\n",
       "      <td>829</td>\n",
       "      <td>1.0</td>\n",
       "      <td>Profession</td>\n",
       "      <td>10</td>\n",
       "      <td>38</td>\n",
       "      <td>Artist</td>\n",
       "    </tr>\n",
       "    <tr>\n",
       "      <th>6</th>\n",
       "      <td>Spending_Score</td>\n",
       "      <td>3</td>\n",
       "      <td>0</td>\n",
       "      <td>Low</td>\n",
       "      <td>Work_Experience</td>\n",
       "      <td>16</td>\n",
       "      <td>269</td>\n",
       "      <td>1.0</td>\n",
       "    </tr>\n",
       "    <tr>\n",
       "      <th>7</th>\n",
       "      <td>Family_Size</td>\n",
       "      <td>10</td>\n",
       "      <td>335</td>\n",
       "      <td>2.0</td>\n",
       "      <td>Spending_Score</td>\n",
       "      <td>3</td>\n",
       "      <td>0</td>\n",
       "      <td>Low</td>\n",
       "    </tr>\n",
       "    <tr>\n",
       "      <th>8</th>\n",
       "      <td>Var_1</td>\n",
       "      <td>8</td>\n",
       "      <td>76</td>\n",
       "      <td>Cat_6</td>\n",
       "      <td>Family_Size</td>\n",
       "      <td>10</td>\n",
       "      <td>113</td>\n",
       "      <td>2.0</td>\n",
       "    </tr>\n",
       "    <tr>\n",
       "      <th>9</th>\n",
       "      <td>Segmentation</td>\n",
       "      <td>4</td>\n",
       "      <td>0</td>\n",
       "      <td>D</td>\n",
       "      <td>Var_1</td>\n",
       "      <td>8</td>\n",
       "      <td>32</td>\n",
       "      <td>Cat_6</td>\n",
       "    </tr>\n",
       "  </tbody>\n",
       "</table>\n",
       "</div>"
      ],
      "text/plain": [
       "           Feature Unique Values Nan Values               Mode  \\\n",
       "0           Gender             2          0               Male   \n",
       "1     Ever_Married             3        140                Yes   \n",
       "2              Age            67          0  43.46690629647992   \n",
       "3        Graduated             3         78                Yes   \n",
       "4       Profession            10        124             Artist   \n",
       "5  Work_Experience            16        829                1.0   \n",
       "6   Spending_Score             3          0                Low   \n",
       "7      Family_Size            10        335                2.0   \n",
       "8            Var_1             8         76              Cat_6   \n",
       "9     Segmentation             4          0                  D   \n",
       "\n",
       "           Feature Unique Values Nan Values                Mode  \n",
       "0               ID          2627          0  463433.91891891893  \n",
       "1           Gender             2          0                Male  \n",
       "2     Ever_Married             3         50                 Yes  \n",
       "3              Age            67          0  43.649790635706125  \n",
       "4        Graduated             3         24                 Yes  \n",
       "5       Profession            10         38              Artist  \n",
       "6  Work_Experience            16        269                 1.0  \n",
       "7   Spending_Score             3          0                 Low  \n",
       "8      Family_Size            10        113                 2.0  \n",
       "9            Var_1             8         32               Cat_6  "
      ]
     },
     "execution_count": 37,
     "metadata": {},
     "output_type": "execute_result"
    }
   ],
   "source": [
    "pd.concat([training_data_result,test_data_result],axis=1)"
   ]
  },
  {
   "cell_type": "markdown",
   "id": "44140d3f",
   "metadata": {},
   "source": [
    "# Data Cleaning and Visualisation "
   ]
  },
  {
   "cell_type": "code",
   "execution_count": 38,
   "id": "23052a96",
   "metadata": {},
   "outputs": [
    {
     "data": {
      "text/plain": [
       "Index(['Yes', 'No'], dtype='object')"
      ]
     },
     "execution_count": 38,
     "metadata": {},
     "output_type": "execute_result"
    }
   ],
   "source": [
    "data_train['Graduated'].value_counts().index"
   ]
  },
  {
   "cell_type": "code",
   "execution_count": 39,
   "id": "dee0493a",
   "metadata": {},
   "outputs": [
    {
     "data": {
      "text/plain": [
       "Text(0.5, 1.0, 'Distribution of Marriage')"
      ]
     },
     "execution_count": 39,
     "metadata": {},
     "output_type": "execute_result"
    },
    {
     "data": {
      "image/png": "[encoded data removed]",
      "text/plain": [
       "<Figure size 1440x720 with 4 Axes>"
      ]
     },
     "metadata": {},
     "output_type": "display_data"
    }
   ],
   "source": [
    "fig,ax = plt.subplots(2,2,figsize = (20,10))\n",
    "colors=[\"#FF7C00\", \"#E8000B\",\"#1AC938\"]\n",
    "\n",
    "ax[0,0].pie(x = data_train['Gender'].value_counts().values,labels=data_train['Gender'].value_counts().index,autopct=\"%.2f\",\n",
    "            colors=colors,explode=[0,.1])\n",
    "ax[0,0].set_title('Distribution of Gender')\n",
    "\n",
    "ax[0,1].pie(x = data_train['Graduated'].value_counts().values,labels=data_train['Graduated'].value_counts().index,\n",
    "            autopct=\"%.2f\",colors=colors,explode=[0,.1])\n",
    "ax[0,1].set_title('Distribution of Graduates')\n",
    "\n",
    "ax[1,0].pie(x = data_train['Spending_Score'].value_counts().values,labels=data_train['Spending_Score'].value_counts().index,\n",
    "            autopct=\"%.2f\",colors=colors,explode=[0,.1,.1])\n",
    "ax[1,0].set_title('Distribution of Spending Power')\n",
    "\n",
    "ax[1,1].pie(x=data_train['Ever_Married'].value_counts().values,labels=data_train['Ever_Married'].value_counts().index,\n",
    "            autopct=\"%.2f\",colors=colors,explode=[0,.1])\n",
    "ax[1,1].set_title('Distribution of Marriage')"
   ]
  },
  {
   "cell_type": "code",
   "execution_count": 40,
   "id": "968366ed",
   "metadata": {},
   "outputs": [
    {
     "data": {
      "image/png": "[encoded data removed]",
      "text/plain": [
       "<Figure size 1800x1080 with 4 Axes>"
      ]
     },
     "metadata": {
      "needs_background": "light"
     },
     "output_type": "display_data"
    }
   ],
   "source": [
    "f, ax  = plt.subplots(2,2,figsize = (25,15))\n",
    "colors=[\"#023EFF\",\"#FF7C00\", \"#E8000B\",\"#1AC938\"]\n",
    "labels = [\"D\",\"C\",\"A\",\"B\"]\n",
    "\n",
    "ax1 = sns.countplot(data_train['Profession'],ax=ax[0][0],palette = \"bright\")\n",
    "ax1.set_xticklabels(ax1.get_xticklabels(), rotation=40, ha=\"right\")\n",
    "\n",
    "sns.countplot(data_train['Work_Experience'],ax=ax[0][1],palette = \"bright\")\n",
    "sns.countplot(data_train['Family_Size'],ax=ax[1][0],palette = \"bright\")\n",
    "sns.countplot(data_train['Var_1'],ax=ax[1][1],palette = \"bright\")\n",
    "plt.show()"
   ]
  },
  {
   "cell_type": "code",
   "execution_count": 41,
   "id": "cf3dacc9",
   "metadata": {},
   "outputs": [],
   "source": [
    "#Get Box Plots for Family Size, Work Experience, Age"
   ]
  },
  {
   "cell_type": "code",
   "execution_count": 42,
   "id": "06225bcc",
   "metadata": {},
   "outputs": [
    {
     "data": {
      "text/plain": [
       "<AxesSubplot:>"
      ]
     },
     "execution_count": 42,
     "metadata": {},
     "output_type": "execute_result"
    },
    {
     "data": {
      "image/png": "[encoded data removed]",
      "text/plain": [
       "<Figure size 360x1512 with 3 Axes>"
      ]
     },
     "metadata": {
      "needs_background": "light"
     },
     "output_type": "display_data"
    }
   ],
   "source": [
    "fig , ax = plt.subplots(3,figsize=(5,21))\n",
    "\n",
    "data_train['Family_Size'].plot.box(ax=ax[0])\n",
    "data_train['Age'].plot.box(ax=ax[1])\n",
    "data_train['Family_Size'].plot.box(ax=ax[2])"
   ]
  },
  {
   "cell_type": "markdown",
   "id": "d21989de",
   "metadata": {},
   "source": [
    "# Clean Data By Removing Missing Values"
   ]
  },
  {
   "cell_type": "code",
   "execution_count": 43,
   "id": "7e5e494d",
   "metadata": {},
   "outputs": [],
   "source": [
    "#Remove Rows having missing values"
   ]
  },
  {
   "cell_type": "code",
   "execution_count": 44,
   "id": "27b77081",
   "metadata": {},
   "outputs": [
    {
     "name": "stdout",
     "output_type": "stream",
     "text": [
      "<class 'pandas.core.frame.DataFrame'>\n",
      "RangeIndex: 8068 entries, 0 to 8067\n",
      "Data columns (total 10 columns):\n",
      " #   Column           Non-Null Count  Dtype  \n",
      "---  ------           --------------  -----  \n",
      " 0   Gender           8068 non-null   object \n",
      " 1   Ever_Married     7928 non-null   object \n",
      " 2   Age              8068 non-null   int64  \n",
      " 3   Graduated        7990 non-null   object \n",
      " 4   Profession       7944 non-null   object \n",
      " 5   Work_Experience  7239 non-null   float64\n",
      " 6   Spending_Score   8068 non-null   object \n",
      " 7   Family_Size      7733 non-null   float64\n",
      " 8   Var_1            7992 non-null   object \n",
      " 9   Segmentation     8068 non-null   object \n",
      "dtypes: float64(2), int64(1), object(7)\n",
      "memory usage: 630.4+ KB\n"
     ]
    }
   ],
   "source": [
    "data_train.info()"
   ]
  },
  {
   "cell_type": "code",
   "execution_count": 45,
   "id": "23b612b0",
   "metadata": {},
   "outputs": [],
   "source": [
    "data_train.dropna(inplace=True)"
   ]
  },
  {
   "cell_type": "code",
   "execution_count": 46,
   "id": "d96d26fa",
   "metadata": {},
   "outputs": [
    {
     "name": "stdout",
     "output_type": "stream",
     "text": [
      "<class 'pandas.core.frame.DataFrame'>\n",
      "RangeIndex: 2627 entries, 0 to 2626\n",
      "Data columns (total 10 columns):\n",
      " #   Column           Non-Null Count  Dtype  \n",
      "---  ------           --------------  -----  \n",
      " 0   ID               2627 non-null   int64  \n",
      " 1   Gender           2627 non-null   object \n",
      " 2   Ever_Married     2577 non-null   object \n",
      " 3   Age              2627 non-null   int64  \n",
      " 4   Graduated        2603 non-null   object \n",
      " 5   Profession       2589 non-null   object \n",
      " 6   Work_Experience  2358 non-null   float64\n",
      " 7   Spending_Score   2627 non-null   object \n",
      " 8   Family_Size      2514 non-null   float64\n",
      " 9   Var_1            2595 non-null   object \n",
      "dtypes: float64(2), int64(2), object(6)\n",
      "memory usage: 205.4+ KB\n"
     ]
    }
   ],
   "source": [
    "data_test.info()"
   ]
  },
  {
   "cell_type": "code",
   "execution_count": 47,
   "id": "5385f3f4",
   "metadata": {},
   "outputs": [],
   "source": [
    "data_test.dropna(inplace=True)"
   ]
  },
  {
   "cell_type": "code",
   "execution_count": 48,
   "id": "9f5ef704",
   "metadata": {},
   "outputs": [
    {
     "name": "stdout",
     "output_type": "stream",
     "text": [
      "<class 'pandas.core.frame.DataFrame'>\n",
      "Int64Index: 2154 entries, 0 to 2626\n",
      "Data columns (total 10 columns):\n",
      " #   Column           Non-Null Count  Dtype  \n",
      "---  ------           --------------  -----  \n",
      " 0   ID               2154 non-null   int64  \n",
      " 1   Gender           2154 non-null   object \n",
      " 2   Ever_Married     2154 non-null   object \n",
      " 3   Age              2154 non-null   int64  \n",
      " 4   Graduated        2154 non-null   object \n",
      " 5   Profession       2154 non-null   object \n",
      " 6   Work_Experience  2154 non-null   float64\n",
      " 7   Spending_Score   2154 non-null   object \n",
      " 8   Family_Size      2154 non-null   float64\n",
      " 9   Var_1            2154 non-null   object \n",
      "dtypes: float64(2), int64(2), object(6)\n",
      "memory usage: 185.1+ KB\n"
     ]
    }
   ],
   "source": [
    "data_test.info()"
   ]
  },
  {
   "cell_type": "code",
   "execution_count": 49,
   "id": "a1b92e27",
   "metadata": {},
   "outputs": [
    {
     "name": "stdout",
     "output_type": "stream",
     "text": [
      "<class 'pandas.core.frame.DataFrame'>\n",
      "Int64Index: 6665 entries, 0 to 8067\n",
      "Data columns (total 10 columns):\n",
      " #   Column           Non-Null Count  Dtype  \n",
      "---  ------           --------------  -----  \n",
      " 0   Gender           6665 non-null   object \n",
      " 1   Ever_Married     6665 non-null   object \n",
      " 2   Age              6665 non-null   int64  \n",
      " 3   Graduated        6665 non-null   object \n",
      " 4   Profession       6665 non-null   object \n",
      " 5   Work_Experience  6665 non-null   float64\n",
      " 6   Spending_Score   6665 non-null   object \n",
      " 7   Family_Size      6665 non-null   float64\n",
      " 8   Var_1            6665 non-null   object \n",
      " 9   Segmentation     6665 non-null   object \n",
      "dtypes: float64(2), int64(1), object(7)\n",
      "memory usage: 572.8+ KB\n"
     ]
    }
   ],
   "source": [
    "data_train.info()"
   ]
  },
  {
   "cell_type": "code",
   "execution_count": 50,
   "id": "41736fd3",
   "metadata": {},
   "outputs": [
    {
     "name": "stdout",
     "output_type": "stream",
     "text": [
      "D\n",
      "Values Count: 1757\n",
      "B\n",
      "Values Count: 1572\n",
      "C\n",
      "Values Count: 1720\n",
      "A\n",
      "Values Count: 1616\n"
     ]
    }
   ],
   "source": [
    "for i in data_train[\"Segmentation\"].unique():\n",
    "    print(i)\n",
    "    print(\"Values Count:\",len(data_train[data_train[\"Segmentation\"]==i]))\n",
    "#   print(\"Total: \",Data_train[Data_train[\"Segmentation\"]==i].isna().sum().sum())"
   ]
  },
  {
   "cell_type": "markdown",
   "id": "56d64b70",
   "metadata": {},
   "source": [
    "# Label Encoding of Data"
   ]
  },
  {
   "cell_type": "code",
   "execution_count": 51,
   "id": "a117b540",
   "metadata": {},
   "outputs": [],
   "source": [
    "from sklearn.model_selection import train_test_split\n",
    "from sklearn.metrics import accuracy_score,classification_report,confusion_matrix\n",
    "from sklearn.model_selection import cross_val_score\n",
    "from sklearn.model_selection import GridSearchCV\n",
    "from sklearn.preprocessing import LabelEncoder"
   ]
  },
  {
   "cell_type": "markdown",
   "id": "9d00f4f2",
   "metadata": {},
   "source": [
    "## Train Data"
   ]
  },
  {
   "cell_type": "code",
   "execution_count": 52,
   "id": "a4881495",
   "metadata": {},
   "outputs": [],
   "source": [
    "columnsToEncode = [\"Gender\",\"Ever_Married\",\"Graduated\",\"Profession\",\"Spending_Score\",\"Var_1\"]\n",
    "labelEncoder = LabelEncoder()\n",
    "\n",
    "for column in columnsToEncode:    \n",
    "    labelEncoder.fit(data_train[column])\n",
    "    data_train[column]=labelEncoder.transform(data_train[column])\n",
    "    data_test[column]=labelEncoder.transform(data_test[column])"
   ]
  },
  {
   "cell_type": "code",
   "execution_count": 53,
   "id": "9d2e298b",
   "metadata": {},
   "outputs": [
    {
     "data": {
      "text/html": [
       "<div>\n",
       "<style scoped>\n",
       "    .dataframe tbody tr th:only-of-type {\n",
       "        vertical-align: middle;\n",
       "    }\n",
       "\n",
       "    .dataframe tbody tr th {\n",
       "        vertical-align: top;\n",
       "    }\n",
       "\n",
       "    .dataframe thead th {\n",
       "        text-align: right;\n",
       "    }\n",
       "</style>\n",
       "<table border=\"1\" class=\"dataframe\">\n",
       "  <thead>\n",
       "    <tr style=\"text-align: right;\">\n",
       "      <th></th>\n",
       "      <th>Gender</th>\n",
       "      <th>Ever_Married</th>\n",
       "      <th>Age</th>\n",
       "      <th>Graduated</th>\n",
       "      <th>Profession</th>\n",
       "      <th>Work_Experience</th>\n",
       "      <th>Spending_Score</th>\n",
       "      <th>Family_Size</th>\n",
       "      <th>Var_1</th>\n",
       "      <th>Segmentation</th>\n",
       "    </tr>\n",
       "  </thead>\n",
       "  <tbody>\n",
       "    <tr>\n",
       "      <th>0</th>\n",
       "      <td>1</td>\n",
       "      <td>0</td>\n",
       "      <td>22</td>\n",
       "      <td>0</td>\n",
       "      <td>5</td>\n",
       "      <td>1.0</td>\n",
       "      <td>2</td>\n",
       "      <td>4.0</td>\n",
       "      <td>3</td>\n",
       "      <td>D</td>\n",
       "    </tr>\n",
       "    <tr>\n",
       "      <th>2</th>\n",
       "      <td>0</td>\n",
       "      <td>1</td>\n",
       "      <td>67</td>\n",
       "      <td>1</td>\n",
       "      <td>2</td>\n",
       "      <td>1.0</td>\n",
       "      <td>2</td>\n",
       "      <td>1.0</td>\n",
       "      <td>5</td>\n",
       "      <td>B</td>\n",
       "    </tr>\n",
       "    <tr>\n",
       "      <th>3</th>\n",
       "      <td>1</td>\n",
       "      <td>1</td>\n",
       "      <td>67</td>\n",
       "      <td>1</td>\n",
       "      <td>7</td>\n",
       "      <td>0.0</td>\n",
       "      <td>1</td>\n",
       "      <td>2.0</td>\n",
       "      <td>5</td>\n",
       "      <td>B</td>\n",
       "    </tr>\n",
       "    <tr>\n",
       "      <th>5</th>\n",
       "      <td>1</td>\n",
       "      <td>1</td>\n",
       "      <td>56</td>\n",
       "      <td>0</td>\n",
       "      <td>0</td>\n",
       "      <td>0.0</td>\n",
       "      <td>0</td>\n",
       "      <td>2.0</td>\n",
       "      <td>5</td>\n",
       "      <td>C</td>\n",
       "    </tr>\n",
       "    <tr>\n",
       "      <th>6</th>\n",
       "      <td>1</td>\n",
       "      <td>0</td>\n",
       "      <td>32</td>\n",
       "      <td>1</td>\n",
       "      <td>5</td>\n",
       "      <td>1.0</td>\n",
       "      <td>2</td>\n",
       "      <td>3.0</td>\n",
       "      <td>5</td>\n",
       "      <td>C</td>\n",
       "    </tr>\n",
       "  </tbody>\n",
       "</table>\n",
       "</div>"
      ],
      "text/plain": [
       "   Gender  Ever_Married  Age  Graduated  Profession  Work_Experience  \\\n",
       "0       1             0   22          0           5              1.0   \n",
       "2       0             1   67          1           2              1.0   \n",
       "3       1             1   67          1           7              0.0   \n",
       "5       1             1   56          0           0              0.0   \n",
       "6       1             0   32          1           5              1.0   \n",
       "\n",
       "   Spending_Score  Family_Size  Var_1 Segmentation  \n",
       "0               2          4.0      3            D  \n",
       "2               2          1.0      5            B  \n",
       "3               1          2.0      5            B  \n",
       "5               0          2.0      5            C  \n",
       "6               2          3.0      5            C  "
      ]
     },
     "execution_count": 53,
     "metadata": {},
     "output_type": "execute_result"
    }
   ],
   "source": [
    "data_train.head()"
   ]
  },
  {
   "cell_type": "markdown",
   "id": "5681c30e",
   "metadata": {},
   "source": [
    "## Test Data"
   ]
  },
  {
   "cell_type": "code",
   "execution_count": 54,
   "id": "d6e2206b",
   "metadata": {},
   "outputs": [
    {
     "data": {
      "text/html": [
       "<div>\n",
       "<style scoped>\n",
       "    .dataframe tbody tr th:only-of-type {\n",
       "        vertical-align: middle;\n",
       "    }\n",
       "\n",
       "    .dataframe tbody tr th {\n",
       "        vertical-align: top;\n",
       "    }\n",
       "\n",
       "    .dataframe thead th {\n",
       "        text-align: right;\n",
       "    }\n",
       "</style>\n",
       "<table border=\"1\" class=\"dataframe\">\n",
       "  <thead>\n",
       "    <tr style=\"text-align: right;\">\n",
       "      <th></th>\n",
       "      <th>ID</th>\n",
       "      <th>Gender</th>\n",
       "      <th>Ever_Married</th>\n",
       "      <th>Age</th>\n",
       "      <th>Graduated</th>\n",
       "      <th>Profession</th>\n",
       "      <th>Work_Experience</th>\n",
       "      <th>Spending_Score</th>\n",
       "      <th>Family_Size</th>\n",
       "      <th>Var_1</th>\n",
       "    </tr>\n",
       "  </thead>\n",
       "  <tbody>\n",
       "    <tr>\n",
       "      <th>0</th>\n",
       "      <td>458989</td>\n",
       "      <td>0</td>\n",
       "      <td>1</td>\n",
       "      <td>36</td>\n",
       "      <td>1</td>\n",
       "      <td>2</td>\n",
       "      <td>0.0</td>\n",
       "      <td>2</td>\n",
       "      <td>1.0</td>\n",
       "      <td>5</td>\n",
       "    </tr>\n",
       "    <tr>\n",
       "      <th>1</th>\n",
       "      <td>458994</td>\n",
       "      <td>1</td>\n",
       "      <td>1</td>\n",
       "      <td>37</td>\n",
       "      <td>1</td>\n",
       "      <td>5</td>\n",
       "      <td>8.0</td>\n",
       "      <td>0</td>\n",
       "      <td>4.0</td>\n",
       "      <td>5</td>\n",
       "    </tr>\n",
       "    <tr>\n",
       "      <th>3</th>\n",
       "      <td>459000</td>\n",
       "      <td>1</td>\n",
       "      <td>1</td>\n",
       "      <td>59</td>\n",
       "      <td>0</td>\n",
       "      <td>4</td>\n",
       "      <td>11.0</td>\n",
       "      <td>1</td>\n",
       "      <td>2.0</td>\n",
       "      <td>5</td>\n",
       "    </tr>\n",
       "    <tr>\n",
       "      <th>5</th>\n",
       "      <td>459003</td>\n",
       "      <td>1</td>\n",
       "      <td>1</td>\n",
       "      <td>47</td>\n",
       "      <td>1</td>\n",
       "      <td>1</td>\n",
       "      <td>0.0</td>\n",
       "      <td>1</td>\n",
       "      <td>5.0</td>\n",
       "      <td>3</td>\n",
       "    </tr>\n",
       "    <tr>\n",
       "      <th>6</th>\n",
       "      <td>459005</td>\n",
       "      <td>1</td>\n",
       "      <td>1</td>\n",
       "      <td>61</td>\n",
       "      <td>1</td>\n",
       "      <td>1</td>\n",
       "      <td>5.0</td>\n",
       "      <td>2</td>\n",
       "      <td>3.0</td>\n",
       "      <td>5</td>\n",
       "    </tr>\n",
       "  </tbody>\n",
       "</table>\n",
       "</div>"
      ],
      "text/plain": [
       "       ID  Gender  Ever_Married  Age  Graduated  Profession  Work_Experience  \\\n",
       "0  458989       0             1   36          1           2              0.0   \n",
       "1  458994       1             1   37          1           5              8.0   \n",
       "3  459000       1             1   59          0           4             11.0   \n",
       "5  459003       1             1   47          1           1              0.0   \n",
       "6  459005       1             1   61          1           1              5.0   \n",
       "\n",
       "   Spending_Score  Family_Size  Var_1  \n",
       "0               2          1.0      5  \n",
       "1               0          4.0      5  \n",
       "3               1          2.0      5  \n",
       "5               1          5.0      3  \n",
       "6               2          3.0      5  "
      ]
     },
     "execution_count": 54,
     "metadata": {},
     "output_type": "execute_result"
    }
   ],
   "source": [
    "data_test.head()"
   ]
  },
  {
   "cell_type": "markdown",
   "id": "c036af37",
   "metadata": {},
   "source": [
    "# ML Algorithms"
   ]
  },
  {
   "cell_type": "code",
   "execution_count": 55,
   "id": "cf76bb1e",
   "metadata": {},
   "outputs": [],
   "source": [
    "X = data_train.copy().drop(columns=['Segmentation']).values\n",
    "Y = data_train.copy()['Segmentation'].values\n",
    "Y=LabelEncoder().fit_transform(Y)\n",
    "m={3:\"D\",0:\"A\",1:\"B\",2:\"C\"}"
   ]
  },
  {
   "cell_type": "code",
   "execution_count": 56,
   "id": "492964fe",
   "metadata": {},
   "outputs": [
    {
     "name": "stdout",
     "output_type": "stream",
     "text": [
      "Train_x: (6665, 9)\n",
      "Train_y: (6665,)\n"
     ]
    }
   ],
   "source": [
    "print('Train_x:',X.shape)\n",
    "print('Train_y:',Y.shape)"
   ]
  },
  {
   "cell_type": "code",
   "execution_count": 57,
   "id": "0651298a",
   "metadata": {},
   "outputs": [],
   "source": [
    "x_train,x_test,y_train,y_test = train_test_split(X,Y,test_size=0.2,random_state=42)"
   ]
  },
  {
   "cell_type": "markdown",
   "id": "da2b39bb",
   "metadata": {},
   "source": [
    "## Decision Tree with GridSearch for Hyper-Parameter Tuning"
   ]
  },
  {
   "cell_type": "code",
   "execution_count": 58,
   "id": "0c5f4a98",
   "metadata": {},
   "outputs": [],
   "source": [
    "from sklearn.tree import DecisionTreeClassifier\n",
    "dt = DecisionTreeClassifier()"
   ]
  },
  {
   "cell_type": "code",
   "execution_count": 59,
   "id": "87981dff",
   "metadata": {},
   "outputs": [],
   "source": [
    "params = {\"max_depth\":list(range(4,15)),\"splitter\":['random','best'],'criterion':['gini','entropy'],'random_state':[42]}"
   ]
  },
  {
   "cell_type": "code",
   "execution_count": 60,
   "id": "16c9cb7b",
   "metadata": {},
   "outputs": [
    {
     "data": {
      "text/html": [
       "<style>#sk-container-id-1 {color: black;background-color: white;}#sk-container-id-1 pre{padding: 0;}#sk-container-id-1 div.sk-toggleable {background-color: white;}#sk-container-id-1 label.sk-toggleable__label {cursor: pointer;display: block;width: 100%;margin-bottom: 0;padding: 0.3em;box-sizing: border-box;text-align: center;}#sk-container-id-1 label.sk-toggleable__label-arrow:before {content: \"▸\";float: left;margin-right: 0.25em;color: #696969;}#sk-container-id-1 label.sk-toggleable__label-arrow:hover:before {color: black;}#sk-container-id-1 div.sk-estimator:hover label.sk-toggleable__label-arrow:before {color: black;}#sk-container-id-1 div.sk-toggleable__content {max-height: 0;max-width: 0;overflow: hidden;text-align: left;background-color: #f0f8ff;}#sk-container-id-1 div.sk-toggleable__content pre {margin: 0.2em;color: black;border-radius: 0.25em;background-color: #f0f8ff;}#sk-container-id-1 input.sk-toggleable__control:checked~div.sk-toggleable__content {max-height: 200px;max-width: 100%;overflow: auto;}#sk-container-id-1 input.sk-toggleable__control:checked~label.sk-toggleable__label-arrow:before {content: \"▾\";}#sk-container-id-1 div.sk-estimator input.sk-toggleable__control:checked~label.sk-toggleable__label {background-color: #d4ebff;}#sk-container-id-1 div.sk-label input.sk-toggleable__control:checked~label.sk-toggleable__label {background-color: #d4ebff;}#sk-container-id-1 input.sk-hidden--visually {border: 0;clip: rect(1px 1px 1px 1px);clip: rect(1px, 1px, 1px, 1px);height: 1px;margin: -1px;overflow: hidden;padding: 0;position: absolute;width: 1px;}#sk-container-id-1 div.sk-estimator {font-family: monospace;background-color: #f0f8ff;border: 1px dotted black;border-radius: 0.25em;box-sizing: border-box;margin-bottom: 0.5em;}#sk-container-id-1 div.sk-estimator:hover {background-color: #d4ebff;}#sk-container-id-1 div.sk-parallel-item::after {content: \"\";width: 100%;border-bottom: 1px solid gray;flex-grow: 1;}#sk-container-id-1 div.sk-label:hover label.sk-toggleable__label {background-color: #d4ebff;}#sk-container-id-1 div.sk-serial::before {content: \"\";position: absolute;border-left: 1px solid gray;box-sizing: border-box;top: 0;bottom: 0;left: 50%;z-index: 0;}#sk-container-id-1 div.sk-serial {display: flex;flex-direction: column;align-items: center;background-color: white;padding-right: 0.2em;padding-left: 0.2em;position: relative;}#sk-container-id-1 div.sk-item {position: relative;z-index: 1;}#sk-container-id-1 div.sk-parallel {display: flex;align-items: stretch;justify-content: center;background-color: white;position: relative;}#sk-container-id-1 div.sk-item::before, #sk-container-id-1 div.sk-parallel-item::before {content: \"\";position: absolute;border-left: 1px solid gray;box-sizing: border-box;top: 0;bottom: 0;left: 50%;z-index: -1;}#sk-container-id-1 div.sk-parallel-item {display: flex;flex-direction: column;z-index: 1;position: relative;background-color: white;}#sk-container-id-1 div.sk-parallel-item:first-child::after {align-self: flex-end;width: 50%;}#sk-container-id-1 div.sk-parallel-item:last-child::after {align-self: flex-start;width: 50%;}#sk-container-id-1 div.sk-parallel-item:only-child::after {width: 0;}#sk-container-id-1 div.sk-dashed-wrapped {border: 1px dashed gray;margin: 0 0.4em 0.5em 0.4em;box-sizing: border-box;padding-bottom: 0.4em;background-color: white;}#sk-container-id-1 div.sk-label label {font-family: monospace;font-weight: bold;display: inline-block;line-height: 1.2em;}#sk-container-id-1 div.sk-label-container {text-align: center;}#sk-container-id-1 div.sk-container {/* jupyter's `normalize.less` sets `[hidden] { display: none; }` but bootstrap.min.css set `[hidden] { display: none !important; }` so we also need the `!important` here to be able to override the default hidden behavior on the sphinx rendered scikit-learn.org. See: https://github.com/scikit-learn/scikit-learn/issues/21755 */display: inline-block !important;position: relative;}#sk-container-id-1 div.sk-text-repr-fallback {display: none;}</style><div id=\"sk-container-id-1\" class=\"sk-top-container\"><div class=\"sk-text-repr-fallback\"><pre>GridSearchCV(cv=10, estimator=DecisionTreeClassifier(),\n",
       "             param_grid={&#x27;criterion&#x27;: [&#x27;gini&#x27;, &#x27;entropy&#x27;],\n",
       "                         &#x27;max_depth&#x27;: [4, 5, 6, 7, 8, 9, 10, 11, 12, 13, 14],\n",
       "                         &#x27;random_state&#x27;: [42], &#x27;splitter&#x27;: [&#x27;random&#x27;, &#x27;best&#x27;]})</pre><b>In a Jupyter environment, please rerun this cell to show the HTML representation or trust the notebook. <br />On GitHub, the HTML representation is unable to render, please try loading this page with nbviewer.org.</b></div><div class=\"sk-container\" hidden><div class=\"sk-item sk-dashed-wrapped\"><div class=\"sk-label-container\"><div class=\"sk-label sk-toggleable\"><input class=\"sk-toggleable__control sk-hidden--visually\" id=\"sk-estimator-id-1\" type=\"checkbox\" ><label for=\"sk-estimator-id-1\" class=\"sk-toggleable__label sk-toggleable__label-arrow\">GridSearchCV</label><div class=\"sk-toggleable__content\"><pre>GridSearchCV(cv=10, estimator=DecisionTreeClassifier(),\n",
       "             param_grid={&#x27;criterion&#x27;: [&#x27;gini&#x27;, &#x27;entropy&#x27;],\n",
       "                         &#x27;max_depth&#x27;: [4, 5, 6, 7, 8, 9, 10, 11, 12, 13, 14],\n",
       "                         &#x27;random_state&#x27;: [42], &#x27;splitter&#x27;: [&#x27;random&#x27;, &#x27;best&#x27;]})</pre></div></div></div><div class=\"sk-parallel\"><div class=\"sk-parallel-item\"><div class=\"sk-item\"><div class=\"sk-label-container\"><div class=\"sk-label sk-toggleable\"><input class=\"sk-toggleable__control sk-hidden--visually\" id=\"sk-estimator-id-2\" type=\"checkbox\" ><label for=\"sk-estimator-id-2\" class=\"sk-toggleable__label sk-toggleable__label-arrow\">estimator: DecisionTreeClassifier</label><div class=\"sk-toggleable__content\"><pre>DecisionTreeClassifier()</pre></div></div></div><div class=\"sk-serial\"><div class=\"sk-item\"><div class=\"sk-estimator sk-toggleable\"><input class=\"sk-toggleable__control sk-hidden--visually\" id=\"sk-estimator-id-3\" type=\"checkbox\" ><label for=\"sk-estimator-id-3\" class=\"sk-toggleable__label sk-toggleable__label-arrow\">DecisionTreeClassifier</label><div class=\"sk-toggleable__content\"><pre>DecisionTreeClassifier()</pre></div></div></div></div></div></div></div></div></div></div>"
      ],
      "text/plain": [
       "GridSearchCV(cv=10, estimator=DecisionTreeClassifier(),\n",
       "             param_grid={'criterion': ['gini', 'entropy'],\n",
       "                         'max_depth': [4, 5, 6, 7, 8, 9, 10, 11, 12, 13, 14],\n",
       "                         'random_state': [42], 'splitter': ['random', 'best']})"
      ]
     },
     "execution_count": 60,
     "metadata": {},
     "output_type": "execute_result"
    }
   ],
   "source": [
    "dt_clf = GridSearchCV(dt, params,cv=10)\n",
    "dt_clf.fit(x_train,y_train)"
   ]
  },
  {
   "cell_type": "code",
   "execution_count": 63,
   "id": "e00575fe",
   "metadata": {},
   "outputs": [
    {
     "data": {
      "text/plain": [
       "{'criterion': 'entropy',\n",
       " 'max_depth': 5,\n",
       " 'random_state': 42,\n",
       " 'splitter': 'best'}"
      ]
     },
     "execution_count": 63,
     "metadata": {},
     "output_type": "execute_result"
    }
   ],
   "source": [
    "dt_clf.best_params_"
   ]
  },
  {
   "cell_type": "code",
   "execution_count": 64,
   "id": "7f2d4d95",
   "metadata": {},
   "outputs": [
    {
     "data": {
      "text/plain": [
       "array([0.49175995, 0.5277656 , 0.50545004, 0.5283288 , 0.51519665,\n",
       "       0.52739739, 0.5039498 , 0.51595344, 0.50469676, 0.5073241 ,\n",
       "       0.49607093, 0.49381671, 0.48725749, 0.48181588, 0.48894358,\n",
       "       0.47524612, 0.47394017, 0.47056201, 0.46755486, 0.46381165,\n",
       "       0.46287321, 0.45424352, 0.49719769, 0.52570181, 0.50657539,\n",
       "       0.53564552, 0.50938719, 0.53339622, 0.50507269, 0.515197  ,\n",
       "       0.49944172, 0.49775632, 0.49813648, 0.48875034, 0.49044171,\n",
       "       0.47355932, 0.48462382, 0.47186936, 0.47505709, 0.46343044,\n",
       "       0.46455439, 0.45424247, 0.45911595, 0.45368102])"
      ]
     },
     "execution_count": 64,
     "metadata": {},
     "output_type": "execute_result"
    }
   ],
   "source": [
    "dt_clf.cv_results_['mean_test_score']"
   ]
  },
  {
   "cell_type": "markdown",
   "id": "cbb1bc00",
   "metadata": {},
   "source": [
    "### Vary the maximum depth of tree and get accuracy for training and validation set"
   ]
  },
  {
   "cell_type": "code",
   "execution_count": 66,
   "id": "5d1d95e9",
   "metadata": {},
   "outputs": [],
   "source": [
    "max_depth = np.arange(3,31,1)\n",
    "training_accuracy = []\n",
    "validation_accuracy = []\n",
    "\n",
    "for i in max_depth:\n",
    "    dt_clf = DecisionTreeClassifier(criterion='entropy',max_depth=i,splitter='best',random_state=42)\n",
    "    dt_clf.fit(x_train,y_train)\n",
    "    training_accuracy.append(dt_clf.score(x_train,y_train))\n",
    "    validation_accuracy.append(dt_clf.score(x_test,y_test))\n",
    "\n",
    "training_accuracy = np.array(training_accuracy)\n",
    "validation_accuracy = np.array(validation_accuracy)"
   ]
  },
  {
   "cell_type": "code",
   "execution_count": 72,
   "id": "4373c0ff",
   "metadata": {
    "scrolled": true
   },
   "outputs": [
    {
     "data": {
      "image/png": "[encoded data removed]",
      "text/plain": [
       "<Figure size 864x576 with 1 Axes>"
      ]
     },
     "metadata": {
      "needs_background": "light"
     },
     "output_type": "display_data"
    }
   ],
   "source": [
    "plt.figure(figsize=(12,8))\n",
    "plt.plot(max_depth, training_accuracy,label = 'Training Accuracy')\n",
    "plt.plot(max_depth, validation_accuracy,label = 'Validation Accuracy')\n",
    "plt.legend(loc = 'center right')\n",
    "plt.xlabel(\"Max Depth of Decison Tree\")\n",
    "plt.show()"
   ]
  },
  {
   "cell_type": "markdown",
   "id": "3e410d7f",
   "metadata": {},
   "source": [
    "## Confusion Matrix and ROC Curve"
   ]
  },
  {
   "cell_type": "code",
   "execution_count": 98,
   "id": "11d0d0d2",
   "metadata": {},
   "outputs": [
    {
     "name": "stdout",
     "output_type": "stream",
     "text": [
      "              precision    recall  f1-score   support\n",
      "\n",
      "           0       0.42      0.44      0.43       315\n",
      "           1       0.38      0.29      0.33       302\n",
      "           2       0.59      0.56      0.58       346\n",
      "           3       0.59      0.71      0.64       370\n",
      "\n",
      "    accuracy                           0.51      1333\n",
      "   macro avg       0.50      0.50      0.49      1333\n",
      "weighted avg       0.50      0.51      0.50      1333\n",
      "\n"
     ]
    }
   ],
   "source": [
    "dt_clf = DecisionTreeClassifier(criterion='entropy',max_depth=5,splitter='best',random_state=42)\n",
    "dt_clf.fit(x_train,y_train)\n",
    "\n",
    "y_pred = dt_clf.predict(x_test)\n",
    "\n",
    "print(classification_report(y_test, y_pred))"
   ]
  },
  {
   "cell_type": "code",
   "execution_count": 100,
   "id": "44fae195",
   "metadata": {},
   "outputs": [
    {
     "data": {
      "image/png": "[encoded data removed]",
      "text/plain": [
       "<Figure size 432x288 with 2 Axes>"
      ]
     },
     "metadata": {
      "needs_background": "light"
     },
     "output_type": "display_data"
    }
   ],
   "source": [
    "## TODO : Write code for getting confusion matrix in display format and getting ROC Curve\n",
    "conf_mat = confusion_matrix(y_test, y_pred)\n",
    "\n",
    "# plotting the heatmap\n",
    "hm = sns.heatmap(data=conf_mat,\n",
    "                annot=True)\n",
    "\n",
    "plt.xlabel('Predicted Class')\n",
    "plt.ylabel('Actual Class')\n",
    "plt.show()"
   ]
  },
  {
   "cell_type": "markdown",
   "id": "1899f2d8",
   "metadata": {},
   "source": [
    "## Random Forests "
   ]
  },
  {
   "cell_type": "code",
   "execution_count": 73,
   "id": "c60c68c1",
   "metadata": {},
   "outputs": [],
   "source": [
    "from sklearn.ensemble import RandomForestClassifier\n",
    "rf = RandomForestClassifier()"
   ]
  },
  {
   "cell_type": "code",
   "execution_count": 83,
   "id": "306af51e",
   "metadata": {},
   "outputs": [],
   "source": [
    "params = {\"n_estimators\":list(range(10,30)), \"max_depth\":[4,5,6,7],'criterion':['entropy','gini'],\n",
    "                                        'max_samples':[0.4,0.5,0.6],'max_features':[3,4,5]}"
   ]
  },
  {
   "cell_type": "code",
   "execution_count": 104,
   "id": "e01e3d76",
   "metadata": {},
   "outputs": [],
   "source": [
    "rf_clf = GridSearchCV(rf,params,cv=10)"
   ]
  },
  {
   "cell_type": "code",
   "execution_count": 105,
   "id": "056db310",
   "metadata": {},
   "outputs": [
    {
     "data": {
      "text/html": [
       "<style>#sk-container-id-5 {color: black;background-color: white;}#sk-container-id-5 pre{padding: 0;}#sk-container-id-5 div.sk-toggleable {background-color: white;}#sk-container-id-5 label.sk-toggleable__label {cursor: pointer;display: block;width: 100%;margin-bottom: 0;padding: 0.3em;box-sizing: border-box;text-align: center;}#sk-container-id-5 label.sk-toggleable__label-arrow:before {content: \"▸\";float: left;margin-right: 0.25em;color: #696969;}#sk-container-id-5 label.sk-toggleable__label-arrow:hover:before {color: black;}#sk-container-id-5 div.sk-estimator:hover label.sk-toggleable__label-arrow:before {color: black;}#sk-container-id-5 div.sk-toggleable__content {max-height: 0;max-width: 0;overflow: hidden;text-align: left;background-color: #f0f8ff;}#sk-container-id-5 div.sk-toggleable__content pre {margin: 0.2em;color: black;border-radius: 0.25em;background-color: #f0f8ff;}#sk-container-id-5 input.sk-toggleable__control:checked~div.sk-toggleable__content {max-height: 200px;max-width: 100%;overflow: auto;}#sk-container-id-5 input.sk-toggleable__control:checked~label.sk-toggleable__label-arrow:before {content: \"▾\";}#sk-container-id-5 div.sk-estimator input.sk-toggleable__control:checked~label.sk-toggleable__label {background-color: #d4ebff;}#sk-container-id-5 div.sk-label input.sk-toggleable__control:checked~label.sk-toggleable__label {background-color: #d4ebff;}#sk-container-id-5 input.sk-hidden--visually {border: 0;clip: rect(1px 1px 1px 1px);clip: rect(1px, 1px, 1px, 1px);height: 1px;margin: -1px;overflow: hidden;padding: 0;position: absolute;width: 1px;}#sk-container-id-5 div.sk-estimator {font-family: monospace;background-color: #f0f8ff;border: 1px dotted black;border-radius: 0.25em;box-sizing: border-box;margin-bottom: 0.5em;}#sk-container-id-5 div.sk-estimator:hover {background-color: #d4ebff;}#sk-container-id-5 div.sk-parallel-item::after {content: \"\";width: 100%;border-bottom: 1px solid gray;flex-grow: 1;}#sk-container-id-5 div.sk-label:hover label.sk-toggleable__label {background-color: #d4ebff;}#sk-container-id-5 div.sk-serial::before {content: \"\";position: absolute;border-left: 1px solid gray;box-sizing: border-box;top: 0;bottom: 0;left: 50%;z-index: 0;}#sk-container-id-5 div.sk-serial {display: flex;flex-direction: column;align-items: center;background-color: white;padding-right: 0.2em;padding-left: 0.2em;position: relative;}#sk-container-id-5 div.sk-item {position: relative;z-index: 1;}#sk-container-id-5 div.sk-parallel {display: flex;align-items: stretch;justify-content: center;background-color: white;position: relative;}#sk-container-id-5 div.sk-item::before, #sk-container-id-5 div.sk-parallel-item::before {content: \"\";position: absolute;border-left: 1px solid gray;box-sizing: border-box;top: 0;bottom: 0;left: 50%;z-index: -1;}#sk-container-id-5 div.sk-parallel-item {display: flex;flex-direction: column;z-index: 1;position: relative;background-color: white;}#sk-container-id-5 div.sk-parallel-item:first-child::after {align-self: flex-end;width: 50%;}#sk-container-id-5 div.sk-parallel-item:last-child::after {align-self: flex-start;width: 50%;}#sk-container-id-5 div.sk-parallel-item:only-child::after {width: 0;}#sk-container-id-5 div.sk-dashed-wrapped {border: 1px dashed gray;margin: 0 0.4em 0.5em 0.4em;box-sizing: border-box;padding-bottom: 0.4em;background-color: white;}#sk-container-id-5 div.sk-label label {font-family: monospace;font-weight: bold;display: inline-block;line-height: 1.2em;}#sk-container-id-5 div.sk-label-container {text-align: center;}#sk-container-id-5 div.sk-container {/* jupyter's `normalize.less` sets `[hidden] { display: none; }` but bootstrap.min.css set `[hidden] { display: none !important; }` so we also need the `!important` here to be able to override the default hidden behavior on the sphinx rendered scikit-learn.org. See: https://github.com/scikit-learn/scikit-learn/issues/21755 */display: inline-block !important;position: relative;}#sk-container-id-5 div.sk-text-repr-fallback {display: none;}</style><div id=\"sk-container-id-5\" class=\"sk-top-container\"><div class=\"sk-text-repr-fallback\"><pre>GridSearchCV(cv=10, estimator=RandomForestClassifier(),\n",
       "             param_grid={&#x27;criterion&#x27;: [&#x27;entropy&#x27;, &#x27;gini&#x27;],\n",
       "                         &#x27;max_depth&#x27;: [4, 5, 6, 7], &#x27;max_features&#x27;: [3, 4, 5],\n",
       "                         &#x27;max_samples&#x27;: [0.4, 0.5, 0.6],\n",
       "                         &#x27;n_estimators&#x27;: [10, 11, 12, 13, 14, 15, 16, 17, 18,\n",
       "                                          19, 20, 21, 22, 23, 24, 25, 26, 27,\n",
       "                                          28, 29]})</pre><b>In a Jupyter environment, please rerun this cell to show the HTML representation or trust the notebook. <br />On GitHub, the HTML representation is unable to render, please try loading this page with nbviewer.org.</b></div><div class=\"sk-container\" hidden><div class=\"sk-item sk-dashed-wrapped\"><div class=\"sk-label-container\"><div class=\"sk-label sk-toggleable\"><input class=\"sk-toggleable__control sk-hidden--visually\" id=\"sk-estimator-id-11\" type=\"checkbox\" ><label for=\"sk-estimator-id-11\" class=\"sk-toggleable__label sk-toggleable__label-arrow\">GridSearchCV</label><div class=\"sk-toggleable__content\"><pre>GridSearchCV(cv=10, estimator=RandomForestClassifier(),\n",
       "             param_grid={&#x27;criterion&#x27;: [&#x27;entropy&#x27;, &#x27;gini&#x27;],\n",
       "                         &#x27;max_depth&#x27;: [4, 5, 6, 7], &#x27;max_features&#x27;: [3, 4, 5],\n",
       "                         &#x27;max_samples&#x27;: [0.4, 0.5, 0.6],\n",
       "                         &#x27;n_estimators&#x27;: [10, 11, 12, 13, 14, 15, 16, 17, 18,\n",
       "                                          19, 20, 21, 22, 23, 24, 25, 26, 27,\n",
       "                                          28, 29]})</pre></div></div></div><div class=\"sk-parallel\"><div class=\"sk-parallel-item\"><div class=\"sk-item\"><div class=\"sk-label-container\"><div class=\"sk-label sk-toggleable\"><input class=\"sk-toggleable__control sk-hidden--visually\" id=\"sk-estimator-id-12\" type=\"checkbox\" ><label for=\"sk-estimator-id-12\" class=\"sk-toggleable__label sk-toggleable__label-arrow\">estimator: RandomForestClassifier</label><div class=\"sk-toggleable__content\"><pre>RandomForestClassifier()</pre></div></div></div><div class=\"sk-serial\"><div class=\"sk-item\"><div class=\"sk-estimator sk-toggleable\"><input class=\"sk-toggleable__control sk-hidden--visually\" id=\"sk-estimator-id-13\" type=\"checkbox\" ><label for=\"sk-estimator-id-13\" class=\"sk-toggleable__label sk-toggleable__label-arrow\">RandomForestClassifier</label><div class=\"sk-toggleable__content\"><pre>RandomForestClassifier()</pre></div></div></div></div></div></div></div></div></div></div>"
      ],
      "text/plain": [
       "GridSearchCV(cv=10, estimator=RandomForestClassifier(),\n",
       "             param_grid={'criterion': ['entropy', 'gini'],\n",
       "                         'max_depth': [4, 5, 6, 7], 'max_features': [3, 4, 5],\n",
       "                         'max_samples': [0.4, 0.5, 0.6],\n",
       "                         'n_estimators': [10, 11, 12, 13, 14, 15, 16, 17, 18,\n",
       "                                          19, 20, 21, 22, 23, 24, 25, 26, 27,\n",
       "                                          28, 29]})"
      ]
     },
     "execution_count": 105,
     "metadata": {},
     "output_type": "execute_result"
    }
   ],
   "source": [
    "rf_clf.fit(x_test,y_test)"
   ]
  },
  {
   "cell_type": "code",
   "execution_count": 85,
   "id": "7a041c45",
   "metadata": {},
   "outputs": [
    {
     "name": "stdout",
     "output_type": "stream",
     "text": [
      "[0.504775   0.52205701 0.50181798 0.49581977 0.51381439 0.48903602\n",
      " 0.51154753 0.5130569  0.51151947 0.50781057 0.50930311 0.50848951\n",
      " 0.52203456 0.51231063 0.50631242 0.51078442 0.50181237 0.51232185\n",
      " 0.50925822 0.51906071 0.49955112 0.49355852 0.49957917 0.50784985\n",
      " 0.50930311 0.52431265 0.52055325 0.49728987 0.52058692 0.51754573\n",
      " 0.51685557 0.51379755 0.51907193 0.52360004 0.52054203 0.51306251\n",
      " 0.5100101  0.51835372 0.504775   0.50404556 0.51456066 0.49734598\n",
      " 0.51454382 0.51529009 0.5070643  0.50406239 0.49576927 0.49952306\n",
      " 0.51153069 0.51309056 0.51380316 0.50256986 0.51156997 0.51755134\n",
      " 0.50708114 0.49351363 0.51080687 0.51156997 0.51904949 0.51155875\n",
      " 0.51901021 0.50850634 0.50930872 0.50705869 0.5085344  0.51604758\n",
      " 0.51005499 0.50404556 0.50028616 0.50627876 0.49877679 0.51455504\n",
      " 0.52206823 0.52585007 0.51608686 0.51678824 0.52130513 0.51079565\n",
      " 0.51755695 0.49430479 0.49804175 0.50479183 0.50556615 0.5145831\n",
      " 0.50026933 0.51681068 0.52955897 0.50702503 0.50102121 0.5108237\n",
      " 0.50181798 0.50702503 0.51009988 0.5025923  0.51305128 0.51681068\n",
      " 0.51531815 0.51156436 0.51903827 0.50934239 0.49579733 0.51759062\n",
      " 0.51532376 0.5115868  0.50780496 0.50856245 0.51230502 0.51156436\n",
      " 0.50627876 0.50781057 0.50255302 0.51756817 0.50852317 0.51679946\n",
      " 0.51756817 0.50930311 0.50777129 0.51832005 0.51907193 0.52131074\n",
      " 0.51375828 0.5108237  0.51607564 0.51457749 0.51456066 0.51236113\n",
      " 0.49804736 0.51980137 0.5017787  0.5175794  0.50475255 0.5152957\n",
      " 0.51532937 0.50855684 0.51383683 0.51004377 0.50630681 0.51985187\n",
      " 0.49580855 0.51303445 0.51759062 0.51757379 0.4988329  0.500303\n",
      " 0.50179553 0.50629559 0.50554371 0.51230502 0.51380878 0.50630681\n",
      " 0.50628437 0.50480305 0.51233868 0.51004377 0.50628998 0.5048255\n",
      " 0.52055886 0.51830322 0.51306251 0.51380878 0.5092975  0.52055886\n",
      " 0.51077881 0.52055886 0.52054203 0.51223768 0.5063012  0.51304567\n",
      " 0.51527326 0.50556615 0.49956795 0.50852878 0.52204579 0.5100606\n",
      " 0.51379755 0.52354393 0.50632364 0.49805858 0.50328246 0.51379194\n",
      " 0.50859612 0.49650993 0.48452474 0.50631803 0.49508473 0.51378633\n",
      " 0.50934239 0.51451016 0.50701941 0.51301201 0.52357199 0.5190551\n",
      " 0.51305128 0.51004377 0.50405117 0.51682191 0.51604758 0.50704747\n",
      " 0.50852317 0.5070138  0.51454943 0.51227135 0.50180114 0.50481427\n",
      " 0.50326563 0.51531815 0.51454943 0.50629559 0.52280328 0.49432162\n",
      " 0.5107732  0.51307934 0.50178992 0.50854562 0.52357199 0.50403995\n",
      " 0.51229379 0.50851756 0.50857367 0.50776568 0.49734037 0.49805297\n",
      " 0.51152508 0.48300415 0.50552688 0.49879363 0.50331052 0.50102682\n",
      " 0.50178431 0.50855684 0.49952867 0.50251375 0.50407362 0.49879924\n",
      " 0.51456627 0.50104926 0.50104926 0.50552688 0.51301762 0.50406239\n",
      " 0.50704186 0.49952867 0.50326002 0.50780496 0.50334418 0.51980698\n",
      " 0.51231624 0.51382561 0.50706991 0.49804175 0.52206262 0.50555493\n",
      " 0.51301201 0.50780496 0.51828639 0.5100606  0.50931433 0.51080687\n",
      " 0.50780496 0.50331613 0.50552688 0.50933116 0.51005499 0.50028616\n",
      " 0.50704186 0.49281225 0.51603636 0.51378633 0.50851756 0.50556615\n",
      " 0.49501739 0.5152957  0.50626753 0.50779374 0.50781618 0.52204579\n",
      " 0.5077769  0.50776007 0.5145326  0.50252497 0.49581416 0.50860734\n",
      " 0.49652115 0.50556054 0.51906632 0.50782179 0.51677702 0.51378633\n",
      " 0.5152957  0.51229941 0.51151386 0.51309617 0.51833689 0.51606441\n",
      " 0.50556615 0.50483111 0.52351588 0.51377511 0.51305128 0.50779374\n",
      " 0.49502301 0.51308495 0.50253058 0.4965436  0.51604197 0.50856245\n",
      " 0.49208282 0.49277859 0.50407362 0.50856245 0.50332174 0.51607564\n",
      " 0.52119852 0.50631803 0.50855123 0.51379194 0.51756256 0.49727303\n",
      " 0.51231624 0.51232185 0.49951184 0.51306812 0.51681068 0.49803614\n",
      " 0.5130569  0.49955112 0.5025418  0.49281225 0.51086859 0.51074515\n",
      " 0.51305128 0.50930311 0.509247   0.50181237 0.51604197 0.50854001\n",
      " 0.51604197 0.51004377 0.5115363  0.50030861 0.49280664 0.51006621\n",
      " 0.50558299 0.50708675 0.4973067  0.50557177 0.50625631 0.5115363\n",
      " 0.52280889 0.52203456 0.51757379 0.51528448 0.51680507 0.51078442\n",
      " 0.50704186 0.50855123 0.51230502 0.5130569  0.51607564 0.51006621]\n",
      "{'criterion': 'entropy', 'max_depth': 5, 'max_features': 4, 'max_samples': 0.5, 'n_estimators': 16}\n"
     ]
    }
   ],
   "source": [
    "print(rf_clf.cv_results_['mean_test_score'])\n",
    "print(rf_clf.best_params_)"
   ]
  },
  {
   "cell_type": "code",
   "execution_count": 103,
   "id": "00f928a0",
   "metadata": {},
   "outputs": [
    {
     "name": "stdout",
     "output_type": "stream",
     "text": [
      "0.5418229557389347\n",
      "0.5236309077269318\n"
     ]
    }
   ],
   "source": [
    "print(rf_clf.score(x_train,y_train))\n",
    "print(rf_clf.score(x_test,y_test))"
   ]
  },
  {
   "cell_type": "markdown",
   "id": "67bf84b7",
   "metadata": {},
   "source": [
    "### Vary the number of estimators and get accuracy for training and validation set"
   ]
  },
  {
   "cell_type": "code",
   "execution_count": 93,
   "id": "1b04af3b",
   "metadata": {},
   "outputs": [],
   "source": [
    "num_trees = np.arange(10,40,1)\n",
    "training_accuracy = []\n",
    "validation_accuracy = []\n",
    "\n",
    "for i in num_trees:\n",
    "    rf2_clf = RandomForestClassifier(n_estimators=i,criterion='entropy',max_depth=5,random_state=42,\n",
    "                                    max_features=4,max_samples=0.5)\n",
    "    rf2_clf.fit(x_train,y_train)\n",
    "    training_accuracy.append(rf2_clf.score(x_train,y_train))\n",
    "    validation_accuracy.append(rf2_clf.score(x_test,y_test))\n",
    "\n",
    "training_accuracy = np.array(training_accuracy)\n",
    "validation_accuracy = np.array(validation_accuracy)"
   ]
  },
  {
   "cell_type": "code",
   "execution_count": 94,
   "id": "de44090f",
   "metadata": {},
   "outputs": [
    {
     "data": {
      "image/png": "[encoded data removed]",
      "text/plain": [
       "<Figure size 864x576 with 1 Axes>"
      ]
     },
     "metadata": {
      "needs_background": "light"
     },
     "output_type": "display_data"
    }
   ],
   "source": [
    "plt.figure(figsize=(12,8))\n",
    "plt.plot(num_trees, training_accuracy,label = 'Training Accuracy')\n",
    "plt.plot(num_trees, validation_accuracy,label = 'Validation Accuracy')\n",
    "plt.legend(loc = 'center right')\n",
    "plt.xlabel(\"Number of Trees in Random Forest\")\n",
    "plt.show()"
   ]
  },
  {
   "cell_type": "markdown",
   "id": "db5570cd",
   "metadata": {},
   "source": [
    "## Confusion Matrix and ROC Curve"
   ]
  },
  {
   "cell_type": "code",
   "execution_count": 101,
   "id": "a3b34cc0",
   "metadata": {},
   "outputs": [
    {
     "name": "stdout",
     "output_type": "stream",
     "text": [
      "              precision    recall  f1-score   support\n",
      "\n",
      "           0       0.42      0.51      0.46       315\n",
      "           1       0.42      0.27      0.33       302\n",
      "           2       0.56      0.59      0.58       346\n",
      "           3       0.65      0.67      0.66       370\n",
      "\n",
      "    accuracy                           0.52      1333\n",
      "   macro avg       0.51      0.51      0.51      1333\n",
      "weighted avg       0.52      0.52      0.52      1333\n",
      "\n"
     ]
    }
   ],
   "source": [
    "y_pred = rf_clf.predict(x_test)\n",
    "\n",
    "print(classification_report(y_test, y_pred))"
   ]
  },
  {
   "cell_type": "code",
   "execution_count": 102,
   "id": "9be6064a",
   "metadata": {},
   "outputs": [
    {
     "data": {
      "image/png": "[encoded data removed]",
      "text/plain": [
       "<Figure size 432x288 with 2 Axes>"
      ]
     },
     "metadata": {
      "needs_background": "light"
     },
     "output_type": "display_data"
    }
   ],
   "source": [
    "conf_mat = confusion_matrix(y_test, y_pred)\n",
    "\n",
    "# plotting the heatmap\n",
    "hm = sns.heatmap(data=conf_mat,\n",
    "                annot=True,)\n",
    "\n",
    "plt.xlabel('Predicted Class')\n",
    "plt.ylabel('Actual Class')\n",
    "plt.show()"
   ]
  },
  {
   "cell_type": "markdown",
   "id": "ab2abcbf",
   "metadata": {},
   "source": [
    "## SVM"
   ]
  },
  {
   "cell_type": "code",
   "execution_count": 109,
   "id": "7e289bf1",
   "metadata": {},
   "outputs": [],
   "source": [
    "## Scale the data using min_max scaler"
   ]
  },
  {
   "cell_type": "code",
   "execution_count": 108,
   "id": "901c3afb",
   "metadata": {},
   "outputs": [
    {
     "data": {
      "text/html": [
       "<div>\n",
       "<style scoped>\n",
       "    .dataframe tbody tr th:only-of-type {\n",
       "        vertical-align: middle;\n",
       "    }\n",
       "\n",
       "    .dataframe tbody tr th {\n",
       "        vertical-align: top;\n",
       "    }\n",
       "\n",
       "    .dataframe thead th {\n",
       "        text-align: right;\n",
       "    }\n",
       "</style>\n",
       "<table border=\"1\" class=\"dataframe\">\n",
       "  <thead>\n",
       "    <tr style=\"text-align: right;\">\n",
       "      <th></th>\n",
       "      <th>count</th>\n",
       "      <th>mean</th>\n",
       "      <th>std</th>\n",
       "      <th>min</th>\n",
       "      <th>25%</th>\n",
       "      <th>50%</th>\n",
       "      <th>75%</th>\n",
       "      <th>max</th>\n",
       "    </tr>\n",
       "  </thead>\n",
       "  <tbody>\n",
       "    <tr>\n",
       "      <th>Gender</th>\n",
       "      <td>6665.0</td>\n",
       "      <td>0.551688</td>\n",
       "      <td>0.497358</td>\n",
       "      <td>0.0</td>\n",
       "      <td>0.0</td>\n",
       "      <td>1.0</td>\n",
       "      <td>1.0</td>\n",
       "      <td>1.0</td>\n",
       "    </tr>\n",
       "    <tr>\n",
       "      <th>Ever_Married</th>\n",
       "      <td>6665.0</td>\n",
       "      <td>0.591748</td>\n",
       "      <td>0.491547</td>\n",
       "      <td>0.0</td>\n",
       "      <td>0.0</td>\n",
       "      <td>1.0</td>\n",
       "      <td>1.0</td>\n",
       "      <td>1.0</td>\n",
       "    </tr>\n",
       "    <tr>\n",
       "      <th>Age</th>\n",
       "      <td>6665.0</td>\n",
       "      <td>43.536084</td>\n",
       "      <td>16.524054</td>\n",
       "      <td>18.0</td>\n",
       "      <td>31.0</td>\n",
       "      <td>41.0</td>\n",
       "      <td>53.0</td>\n",
       "      <td>89.0</td>\n",
       "    </tr>\n",
       "    <tr>\n",
       "      <th>Graduated</th>\n",
       "      <td>6665.0</td>\n",
       "      <td>0.637509</td>\n",
       "      <td>0.480755</td>\n",
       "      <td>0.0</td>\n",
       "      <td>0.0</td>\n",
       "      <td>1.0</td>\n",
       "      <td>1.0</td>\n",
       "      <td>1.0</td>\n",
       "    </tr>\n",
       "    <tr>\n",
       "      <th>Profession</th>\n",
       "      <td>6665.0</td>\n",
       "      <td>2.700975</td>\n",
       "      <td>2.519285</td>\n",
       "      <td>0.0</td>\n",
       "      <td>0.0</td>\n",
       "      <td>2.0</td>\n",
       "      <td>5.0</td>\n",
       "      <td>8.0</td>\n",
       "    </tr>\n",
       "    <tr>\n",
       "      <th>Work_Experience</th>\n",
       "      <td>6665.0</td>\n",
       "      <td>2.629107</td>\n",
       "      <td>3.405365</td>\n",
       "      <td>0.0</td>\n",
       "      <td>0.0</td>\n",
       "      <td>1.0</td>\n",
       "      <td>4.0</td>\n",
       "      <td>14.0</td>\n",
       "    </tr>\n",
       "    <tr>\n",
       "      <th>Spending_Score</th>\n",
       "      <td>6665.0</td>\n",
       "      <td>1.350638</td>\n",
       "      <td>0.852364</td>\n",
       "      <td>0.0</td>\n",
       "      <td>1.0</td>\n",
       "      <td>2.0</td>\n",
       "      <td>2.0</td>\n",
       "      <td>2.0</td>\n",
       "    </tr>\n",
       "    <tr>\n",
       "      <th>Family_Size</th>\n",
       "      <td>6665.0</td>\n",
       "      <td>2.841110</td>\n",
       "      <td>1.524743</td>\n",
       "      <td>1.0</td>\n",
       "      <td>2.0</td>\n",
       "      <td>2.0</td>\n",
       "      <td>4.0</td>\n",
       "      <td>9.0</td>\n",
       "    </tr>\n",
       "    <tr>\n",
       "      <th>Var_1</th>\n",
       "      <td>6665.0</td>\n",
       "      <td>4.178395</td>\n",
       "      <td>1.409265</td>\n",
       "      <td>0.0</td>\n",
       "      <td>3.0</td>\n",
       "      <td>5.0</td>\n",
       "      <td>5.0</td>\n",
       "      <td>6.0</td>\n",
       "    </tr>\n",
       "  </tbody>\n",
       "</table>\n",
       "</div>"
      ],
      "text/plain": [
       "                  count       mean        std   min   25%   50%   75%   max\n",
       "Gender           6665.0   0.551688   0.497358   0.0   0.0   1.0   1.0   1.0\n",
       "Ever_Married     6665.0   0.591748   0.491547   0.0   0.0   1.0   1.0   1.0\n",
       "Age              6665.0  43.536084  16.524054  18.0  31.0  41.0  53.0  89.0\n",
       "Graduated        6665.0   0.637509   0.480755   0.0   0.0   1.0   1.0   1.0\n",
       "Profession       6665.0   2.700975   2.519285   0.0   0.0   2.0   5.0   8.0\n",
       "Work_Experience  6665.0   2.629107   3.405365   0.0   0.0   1.0   4.0  14.0\n",
       "Spending_Score   6665.0   1.350638   0.852364   0.0   1.0   2.0   2.0   2.0\n",
       "Family_Size      6665.0   2.841110   1.524743   1.0   2.0   2.0   4.0   9.0\n",
       "Var_1            6665.0   4.178395   1.409265   0.0   3.0   5.0   5.0   6.0"
      ]
     },
     "execution_count": 108,
     "metadata": {},
     "output_type": "execute_result"
    }
   ],
   "source": [
    "data_train.describe().T"
   ]
  },
  {
   "cell_type": "code",
   "execution_count": 110,
   "id": "2fd80b71",
   "metadata": {},
   "outputs": [
    {
     "data": {
      "text/html": [
       "<style>#sk-container-id-6 {color: black;background-color: white;}#sk-container-id-6 pre{padding: 0;}#sk-container-id-6 div.sk-toggleable {background-color: white;}#sk-container-id-6 label.sk-toggleable__label {cursor: pointer;display: block;width: 100%;margin-bottom: 0;padding: 0.3em;box-sizing: border-box;text-align: center;}#sk-container-id-6 label.sk-toggleable__label-arrow:before {content: \"▸\";float: left;margin-right: 0.25em;color: #696969;}#sk-container-id-6 label.sk-toggleable__label-arrow:hover:before {color: black;}#sk-container-id-6 div.sk-estimator:hover label.sk-toggleable__label-arrow:before {color: black;}#sk-container-id-6 div.sk-toggleable__content {max-height: 0;max-width: 0;overflow: hidden;text-align: left;background-color: #f0f8ff;}#sk-container-id-6 div.sk-toggleable__content pre {margin: 0.2em;color: black;border-radius: 0.25em;background-color: #f0f8ff;}#sk-container-id-6 input.sk-toggleable__control:checked~div.sk-toggleable__content {max-height: 200px;max-width: 100%;overflow: auto;}#sk-container-id-6 input.sk-toggleable__control:checked~label.sk-toggleable__label-arrow:before {content: \"▾\";}#sk-container-id-6 div.sk-estimator input.sk-toggleable__control:checked~label.sk-toggleable__label {background-color: #d4ebff;}#sk-container-id-6 div.sk-label input.sk-toggleable__control:checked~label.sk-toggleable__label {background-color: #d4ebff;}#sk-container-id-6 input.sk-hidden--visually {border: 0;clip: rect(1px 1px 1px 1px);clip: rect(1px, 1px, 1px, 1px);height: 1px;margin: -1px;overflow: hidden;padding: 0;position: absolute;width: 1px;}#sk-container-id-6 div.sk-estimator {font-family: monospace;background-color: #f0f8ff;border: 1px dotted black;border-radius: 0.25em;box-sizing: border-box;margin-bottom: 0.5em;}#sk-container-id-6 div.sk-estimator:hover {background-color: #d4ebff;}#sk-container-id-6 div.sk-parallel-item::after {content: \"\";width: 100%;border-bottom: 1px solid gray;flex-grow: 1;}#sk-container-id-6 div.sk-label:hover label.sk-toggleable__label {background-color: #d4ebff;}#sk-container-id-6 div.sk-serial::before {content: \"\";position: absolute;border-left: 1px solid gray;box-sizing: border-box;top: 0;bottom: 0;left: 50%;z-index: 0;}#sk-container-id-6 div.sk-serial {display: flex;flex-direction: column;align-items: center;background-color: white;padding-right: 0.2em;padding-left: 0.2em;position: relative;}#sk-container-id-6 div.sk-item {position: relative;z-index: 1;}#sk-container-id-6 div.sk-parallel {display: flex;align-items: stretch;justify-content: center;background-color: white;position: relative;}#sk-container-id-6 div.sk-item::before, #sk-container-id-6 div.sk-parallel-item::before {content: \"\";position: absolute;border-left: 1px solid gray;box-sizing: border-box;top: 0;bottom: 0;left: 50%;z-index: -1;}#sk-container-id-6 div.sk-parallel-item {display: flex;flex-direction: column;z-index: 1;position: relative;background-color: white;}#sk-container-id-6 div.sk-parallel-item:first-child::after {align-self: flex-end;width: 50%;}#sk-container-id-6 div.sk-parallel-item:last-child::after {align-self: flex-start;width: 50%;}#sk-container-id-6 div.sk-parallel-item:only-child::after {width: 0;}#sk-container-id-6 div.sk-dashed-wrapped {border: 1px dashed gray;margin: 0 0.4em 0.5em 0.4em;box-sizing: border-box;padding-bottom: 0.4em;background-color: white;}#sk-container-id-6 div.sk-label label {font-family: monospace;font-weight: bold;display: inline-block;line-height: 1.2em;}#sk-container-id-6 div.sk-label-container {text-align: center;}#sk-container-id-6 div.sk-container {/* jupyter's `normalize.less` sets `[hidden] { display: none; }` but bootstrap.min.css set `[hidden] { display: none !important; }` so we also need the `!important` here to be able to override the default hidden behavior on the sphinx rendered scikit-learn.org. See: https://github.com/scikit-learn/scikit-learn/issues/21755 */display: inline-block !important;position: relative;}#sk-container-id-6 div.sk-text-repr-fallback {display: none;}</style><div id=\"sk-container-id-6\" class=\"sk-top-container\"><div class=\"sk-text-repr-fallback\"><pre>MinMaxScaler()</pre><b>In a Jupyter environment, please rerun this cell to show the HTML representation or trust the notebook. <br />On GitHub, the HTML representation is unable to render, please try loading this page with nbviewer.org.</b></div><div class=\"sk-container\" hidden><div class=\"sk-item\"><div class=\"sk-estimator sk-toggleable\"><input class=\"sk-toggleable__control sk-hidden--visually\" id=\"sk-estimator-id-14\" type=\"checkbox\" checked><label for=\"sk-estimator-id-14\" class=\"sk-toggleable__label sk-toggleable__label-arrow\">MinMaxScaler</label><div class=\"sk-toggleable__content\"><pre>MinMaxScaler()</pre></div></div></div></div></div>"
      ],
      "text/plain": [
       "MinMaxScaler()"
      ]
     },
     "execution_count": 110,
     "metadata": {},
     "output_type": "execute_result"
    }
   ],
   "source": [
    "#Modify data_train and data_test\n",
    "from sklearn.preprocessing import MinMaxScaler\n",
    "columnsToChange = ['Age','Profession','Profession','Work_Experience','Spending_Score','Family_Size','Var_1']\n",
    "\n",
    "svm_train = data_train.copy()\n",
    "\n",
    "scaler = MinMaxScaler()\n",
    "scaler.fit(svm_train[columnsToChange])"
   ]
  },
  {
   "cell_type": "code",
   "execution_count": 113,
   "id": "a6e58cf6",
   "metadata": {},
   "outputs": [],
   "source": [
    "svm_train[columnsToChange]= scaler.transform(svm_train[columnsToChange])"
   ]
  },
  {
   "cell_type": "code",
   "execution_count": 115,
   "id": "8a56973a",
   "metadata": {},
   "outputs": [
    {
     "name": "stdout",
     "output_type": "stream",
     "text": [
      "<class 'pandas.core.frame.DataFrame'>\n",
      "Int64Index: 6665 entries, 0 to 8067\n",
      "Data columns (total 10 columns):\n",
      " #   Column           Non-Null Count  Dtype  \n",
      "---  ------           --------------  -----  \n",
      " 0   Gender           6665 non-null   int32  \n",
      " 1   Ever_Married     6665 non-null   int32  \n",
      " 2   Age              6665 non-null   float64\n",
      " 3   Graduated        6665 non-null   int32  \n",
      " 4   Profession       6665 non-null   float64\n",
      " 5   Work_Experience  6665 non-null   float64\n",
      " 6   Spending_Score   6665 non-null   float64\n",
      " 7   Family_Size      6665 non-null   float64\n",
      " 8   Var_1            6665 non-null   float64\n",
      " 9   Segmentation     6665 non-null   object \n",
      "dtypes: float64(6), int32(3), object(1)\n",
      "memory usage: 494.7+ KB\n"
     ]
    }
   ],
   "source": [
    "svm_train.info()"
   ]
  },
  {
   "cell_type": "code",
   "execution_count": 116,
   "id": "3884edc9",
   "metadata": {},
   "outputs": [],
   "source": [
    "X = svm_train.copy().drop(columns=['Segmentation']).values\n",
    "Y = svm_train.copy()['Segmentation'].values\n",
    "Y=LabelEncoder().fit_transform(Y)"
   ]
  },
  {
   "cell_type": "code",
   "execution_count": 117,
   "id": "ee7506ec",
   "metadata": {},
   "outputs": [],
   "source": [
    "x_train,x_test,y_train,y_test = train_test_split(X,Y,test_size=0.2,random_state=42)"
   ]
  },
  {
   "cell_type": "markdown",
   "id": "d774f296",
   "metadata": {},
   "source": [
    "## Find Best Hyper-parameters "
   ]
  },
  {
   "cell_type": "code",
   "execution_count": 118,
   "id": "cfa7c0d8",
   "metadata": {},
   "outputs": [],
   "source": [
    "from sklearn.svm import SVC\n",
    "svc = SVC()"
   ]
  },
  {
   "cell_type": "code",
   "execution_count": 121,
   "id": "6ad8f473",
   "metadata": {},
   "outputs": [],
   "source": [
    "params = {'C':np.arange(1,50,5),'kernel':['rbf','linear','poly'],'degree':list(range(2,6))}\n",
    "svc_clf = GridSearchCV(svc,params,cv=10)"
   ]
  },
  {
   "cell_type": "code",
   "execution_count": null,
   "id": "812315ad",
   "metadata": {},
   "outputs": [],
   "source": [
    "svc_clf.fit(x_train,y_train)"
   ]
  },
  {
   "cell_type": "code",
   "execution_count": null,
   "id": "2c3fbd11",
   "metadata": {},
   "outputs": [],
   "source": [
    "print(svc_clf.best_params_)\n",
    "print(svc_clf.score(x_train,y_train))\n",
    "print(svc_clf.score(x_test,y_test))"
   ]
  },
  {
   "cell_type": "code",
   "execution_count": null,
   "id": "d30aa408",
   "metadata": {},
   "outputs": [],
   "source": [
    "c_values = np.arange(0,61,5)\n",
    "training_accuracy = []\n",
    "validation_accuracy = []\n",
    "\n",
    "for i in c_values:\n",
    "    svc_clf2 = SVC(C=i,kernel=,degree= ,random_state=42)\n",
    "    svc_clf2.fit(x_train,y_train)\n",
    "    training_accuracy.append(svc_clf2.score(x_train,y_train))\n",
    "    validation_accuracy.append(svc_clf2.score(x_test,y_test))\n",
    "\n",
    "training_accuracy = np.array(training_accuracy)\n",
    "validation_accuracy = np.array(validation_accuracy)\n",
    "\n",
    "plt.figure(figsize=(12,8))\n",
    "plt.plot(max_depth, training_accuracy,label = 'Training Accuracy')\n",
    "plt.plot(max_depth, validation_accuracy,label = 'Validation Accuracy')\n",
    "plt.legend(loc = 'center right')\n",
    "plt.xlabel(\"Value of Regularisation Parameter C \")\n",
    "plt.show()"
   ]
  },
  {
   "cell_type": "code",
   "execution_count": null,
   "id": "68f278e7",
   "metadata": {},
   "outputs": [],
   "source": []
  },
  {
   "cell_type": "markdown",
   "id": "da9ad965",
   "metadata": {},
   "source": [
    "## KNN"
   ]
  },
  {
   "cell_type": "code",
   "execution_count": null,
   "id": "9c521d43",
   "metadata": {},
   "outputs": [],
   "source": [
    "from sklearn.neighbors import KNeighborsClassifier\n",
    "neigh = KNeighborsClassifier()\n",
    "neighbors = np.arange(5,51,5)\n",
    "params = {'n_neighbors':neighbors,'weights':['uniform','distance']}\n",
    "\n",
    "knn_clf = GridSearchCVidSearchCV(neigh,params,cv=10)"
   ]
  },
  {
   "cell_type": "code",
   "execution_count": null,
   "id": "bbada87d",
   "metadata": {},
   "outputs": [],
   "source": [
    "knn_clf.fit(x_train,y_train)\n",
    "print(knn_clf.best_params_)\n",
    "print(knn_clf.score(x_train,y_train)\n",
    "print(knn_clf.score(x_test,y_test))"
   ]
  },
  {
   "cell_type": "code",
   "execution_count": null,
   "id": "2452fb31",
   "metadata": {},
   "outputs": [],
   "source": [
    "num_values = np.arange(3,60,1)\n",
    "training_accuracy = []\n",
    "validation_accuracy = []\n",
    "\n",
    "for i in num_values:\n",
    "    knn_clf2 = KNeighborsClassifier(n_neighbors=i,weights='',random_state=42)\n",
    "    knn_clf2.fit(x_train,y_train)\n",
    "    training_accuracy.append(knn_clf2.score(x_train,y_train))\n",
    "    validation_accuracy.append(knn_clf2.score(x_test,y_test))\n",
    "\n",
    "training_accuracy = np.array(training_accuracy)\n",
    "validation_accuracy = np.array(validation_accuracy)\n",
    "\n",
    "plt.figure(figsize=(12,8))\n",
    "plt.plot(max_depth, training_accuracy,label = 'Training Accuracy')\n",
    "plt.plot(max_depth, validation_accuracy,label = 'Validation Accuracy')\n",
    "plt.legend(loc = 'center right')\n",
    "plt.xlabel(\"Number of Neighbors\")\n",
    "plt.show()"
   ]
  }
 ],
 "metadata": {
  "kernelspec": {
   "display_name": "Python 3 (ipykernel)",
   "language": "python",
   "name": "python3"
  },
  "language_info": {
   "codemirror_mode": {
    "name": "ipython",
    "version": 3
   },
   "file_extension": ".py",
   "mimetype": "text/x-python",
   "name": "python",
   "nbconvert_exporter": "python",
   "pygments_lexer": "ipython3",
   "version": "3.10.4"
  }
 },
 "nbformat": 4,
 "nbformat_minor": 5
}
