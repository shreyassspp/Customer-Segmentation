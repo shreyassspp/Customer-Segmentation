{
 "cells": [
  {
   "cell_type": "code",
   "execution_count": 165,
   "id": "0ea1e31d",
   "metadata": {},
   "outputs": [],
   "source": [
    "import pandas as pd\n",
    "import matplotlib.pyplot as plt\n",
    "import numpy as np\n",
    "import seaborn as sns\n",
    "import warnings\n",
    "warnings.filterwarnings(\"ignore\")"
   ]
  },
  {
   "cell_type": "code",
   "execution_count": 166,
   "id": "553b3e77",
   "metadata": {},
   "outputs": [],
   "source": [
    "#Load Datasets \n",
    "data_train = pd.read_csv('train.csv').drop(columns=['ID'])\n",
    "data_test = pd.read_csv('test.csv')"
   ]
  },
  {
   "cell_type": "code",
   "execution_count": 167,
   "id": "096a970d",
   "metadata": {},
   "outputs": [
    {
     "data": {
      "text/plain": [
       "Index(['Gender', 'Ever_Married', 'Age', 'Graduated', 'Profession',\n",
       "       'Work_Experience', 'Spending_Score', 'Family_Size', 'Var_1',\n",
       "       'Segmentation'],\n",
       "      dtype='object')"
      ]
     },
     "execution_count": 167,
     "metadata": {},
     "output_type": "execute_result"
    }
   ],
   "source": [
    "data_train.columns"
   ]
  },
  {
   "cell_type": "code",
   "execution_count": 170,
   "id": "162b8931",
   "metadata": {},
   "outputs": [
    {
     "name": "stdout",
     "output_type": "stream",
     "text": [
      "#\t Column\n",
      "1\tGender\n",
      "2\tEver_Married\n",
      "3\tAge\n",
      "4\tGraduated\n",
      "5\tProfession\n",
      "6\tWork_Experience\n",
      "7\tSpending_Score\n",
      "8\tFamily_Size\n",
      "9\tVar_1\n",
      "10\tSegmentation\n"
     ]
    }
   ],
   "source": [
    "print('#\\t Column')\n",
    "i=1 \n",
    "\n",
    "for column in data_train.columns:\n",
    "    print('{}\\t{}'.format(i,column))\n",
    "    i=i+1"
   ]
  },
  {
   "cell_type": "code",
   "execution_count": 177,
   "id": "14a4aa9d",
   "metadata": {},
   "outputs": [
    {
     "data": {
      "text/plain": [
       "(array([2268.,    0.,    0., 1972.,    0.,    0., 1858.,    0.,    0.,\n",
       "        1970.]),\n",
       " array([0. , 0.3, 0.6, 0.9, 1.2, 1.5, 1.8, 2.1, 2.4, 2.7, 3. ]),\n",
       " <BarContainer object of 10 artists>)"
      ]
     },
     "execution_count": 177,
     "metadata": {},
     "output_type": "execute_result"
    },
    {
     "data": {
      "image/png": "[encoded data removed]",
      "text/plain": [
       "<Figure size 432x288 with 1 Axes>"
      ]
     },
     "metadata": {
      "needs_background": "light"
     },
     "output_type": "display_data"
    }
   ],
   "source": [
    "plt.xlabel('Class')\n",
    "plt.ylabel('Count')\n",
    "plt.hist(x=data_train['Segmentation'])"
   ]
  },
  {
   "cell_type": "code",
   "execution_count": null,
   "id": "52042743",
   "metadata": {},
   "outputs": [],
   "source": []
  }
 ],
 "metadata": {
  "kernelspec": {
   "display_name": "Python 3 (ipykernel)",
   "language": "python",
   "name": "python3"
  },
  "language_info": {
   "codemirror_mode": {
    "name": "ipython",
    "version": 3
   },
   "file_extension": ".py",
   "mimetype": "text/x-python",
   "name": "python",
   "nbconvert_exporter": "python",
   "pygments_lexer": "ipython3",
   "version": "3.10.4"
  }
 },
 "nbformat": 4,
 "nbformat_minor": 5
}
